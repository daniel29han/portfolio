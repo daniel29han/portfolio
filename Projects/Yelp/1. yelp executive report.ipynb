{
 "cells": [
  {
   "cell_type": "markdown",
   "id": "3ff69bf0",
   "metadata": {},
   "source": [
    "# Capstone Project : Yelp's Customized Recommender (Part 1) - Data Transformation I"
   ]
  },
  {
   "cell_type": "markdown",
   "id": "e31a5c49",
   "metadata": {},
   "source": [
    "**Prepared by:** Daniel Han<br>\n",
    "**Prepared for:** Brainstation"
   ]
  },
  {
   "cell_type": "markdown",
   "id": "68458c2e",
   "metadata": {},
   "source": [
    "## Executive Summary Report"
   ]
  },
  {
   "cell_type": "markdown",
   "id": "f548f25e",
   "metadata": {},
   "source": [
    "### 1. Business Brief"
   ]
  },
  {
   "cell_type": "markdown",
   "id": "a049a539",
   "metadata": {},
   "source": [
    "#### Background"
   ]
  },
  {
   "cell_type": "markdown",
   "id": "0b8c63e0",
   "metadata": {},
   "source": [
    "<img src =https://upload.wikimedia.org/wikipedia/commons/thumb/a/ad/Yelp_Logo.svg/1200px-Yelp_Logo.svg.png width = \"600\">"
   ]
  },
  {
   "cell_type": "markdown",
   "id": "efcfed7e",
   "metadata": {},
   "source": [
    "Yelp is an online platform which allows users to interactively share information about local businesses. Users can rate their local businesses based on their experience, on a scale of 1 star to 5 stars, which can in turn be helpful to other users on the platform who might use the service of the businesses."
   ]
  },
  {
   "cell_type": "markdown",
   "id": "ddd63bb1",
   "metadata": {},
   "source": [
    "A feature about the Yelp reviews, as is common in other platforms, is that the raters must also provide their reviews on the businesses they rate to provide further explanations on their experience such that users can consider several factors, such as the price, atmosphere, customer service, parking availabilities, etc., before making the decision on whether to use the businesses (Figure 1).\n",
    "\n",
    "Also, users on Yelp can vote the reviews on various criteria such as 'useful', 'funny', and 'cool' to provide their impressions on the reviews. Users can also choose to be fans or friends of other users to constantly follow their activities, etc."
   ]
  },
  {
   "cell_type": "markdown",
   "id": "0e6e9c7e",
   "metadata": {},
   "source": [
    "**Figure 1 - Yelp Reviews and Ratings**"
   ]
  },
  {
   "cell_type": "markdown",
   "id": "3ddad024",
   "metadata": {},
   "source": [
    "<img src = https://www.wordstream.com/wp-content/uploads/2021/07/yelp-reviews-filtered-1.png width = \"800\">"
   ]
  },
  {
   "cell_type": "markdown",
   "id": "876780a6",
   "metadata": {},
   "source": [
    "Another feature about Yelp is that each user is given a profile and other users can provide compliments such as 'funny', 'hot', 'cute', 'plain', etc. on the user."
   ]
  },
  {
   "cell_type": "markdown",
   "id": "73fb8874",
   "metadata": {},
   "source": [
    "#### Problem Statement"
   ]
  },
  {
   "cell_type": "markdown",
   "id": "930ed401",
   "metadata": {},
   "source": [
    "On Yelp, recommendations are provided on the main page under a tab reading \"Your Next Review Awaits\" (Figure 2). While this provides some guidance as to which places they might try, each user may have unique preferences and it may be unclear as to under why those local businesses are recommended to the users."
   ]
  },
  {
   "cell_type": "markdown",
   "id": "1d98a118",
   "metadata": {},
   "source": [
    "**Figure 2 - Current Yelp Recommendations**"
   ]
  },
  {
   "cell_type": "markdown",
   "id": "20e67b21",
   "metadata": {},
   "source": [
    "\n",
    "<img src=\"Your%20Next%20Review%20Swaits.jpg\" width=\"600\">\n"
   ]
  },
  {
   "cell_type": "markdown",
   "id": "6535b6ef",
   "metadata": {},
   "source": [
    "While some users may take up on the suggestions, others may perceive these recommendations as \"randomly drawn\" from the pool of businesses and may choose to bypass the recommendations.\n",
    "\n",
    "The relevance of recomendations is crucial in ensuring the user experience which subsequently impacts the reliability or reputation of the service. It may also be more effective to inform the users as to the **\"why\"** - that is, why they are recommended such businesses.\n",
    "\n",
    "Many reputable organizations known for their recommendation algorithms, such as Netflix, provides users with a short explanation for their recommendations which could provide a credibility and interest users to try the suggested videos (Figure 3). In light of this, a potential room for improvement for Yelp's recommender is to precisely study each user's preferences and to productionsize a recommender to convince the users that these recommendations are indeed for themselves. That is, to convey the message that **Yelp knows the places the users themselves did not know they wanted to visit**."
   ]
  },
  {
   "cell_type": "markdown",
   "id": "2cfd8818",
   "metadata": {},
   "source": [
    "**Figure 3. Netflix Recommendations**\n",
    "<img src=\"https://miro.medium.com/max/1024/1*jlQxemlP9Yim_rWTqlCFDQ.png\" width=\"600\">"
   ]
  },
  {
   "cell_type": "markdown",
   "id": "0fcc1337",
   "metadata": {},
   "source": [
    "Based on the hypothesis that highly relevant recommendations accompanied by a description of the reasons will lead to a higher customer click-through-rate (CTR), a new customer analysis project is proposed and demostrated through out the remainder of this report, which entails:\n",
    "\n",
    "- an exploratory data analysis to determine whether user profile information and business attributes are related to the user preferences or business rating,   \n",
    "- developing the prototype of a new customized recommender with high performance metrics (i.e., accuracy & relevance), and\n",
    "- translating the algorithms behind the recommender to brief descriptions that are easily understood by end users and provide credibility of the recommendations."
   ]
  },
  {
   "cell_type": "markdown",
   "id": "7cabee9d",
   "metadata": {},
   "source": [
    "The recommendation algorithm is to be such that, given a user id unique to each user, ten recommendations are made along with the reason(s) for such recommendations."
   ]
  },
  {
   "cell_type": "markdown",
   "id": "6b099c37",
   "metadata": {},
   "source": [
    "#### Challenges"
   ]
  },
  {
   "cell_type": "markdown",
   "id": "8573c6d6",
   "metadata": {},
   "source": [
    "The current rating system in place has multiple caveats for the execution of the project. Firstly, the star rating is discrete, therefore poses difficulty in ranking businesses in the order of satisfaction. Also, every user has a different perception in the way they rate the businesses. To address these two problems, sentiment is analyzed from the users' reviews and are combined to the rating system to create a new rating on a continuous scale from 0 to 5. "
   ]
  },
  {
   "cell_type": "markdown",
   "id": "a2374044",
   "metadata": {},
   "source": [
    "#### Values"
   ]
  },
  {
   "cell_type": "markdown",
   "id": "3d08b54f",
   "metadata": {},
   "source": [
    "Upon successfully deploying the new recommender that makes relevant recommendations customized for each individual, the user experience and public reputation of Yelp are expected to be increased, both of which can lead to a higher user retention and lower churn."
   ]
  },
  {
   "cell_type": "markdown",
   "id": "4884c284",
   "metadata": {},
   "source": [
    "#### Scope"
   ]
  },
  {
   "cell_type": "markdown",
   "id": "099140ad",
   "metadata": {},
   "source": [
    "While the prototype is created such that the performance metrics are maximized as allowed by the natural and computational limitations, it is to be noted that this project is proposed without the knowledge of the accuracy/relevance metrics of any existing recommendation algorithm in place.\n",
    "\n",
    "Also, it is important to validate the effectiveness of the proposed change before the deployment. Therefore, in this project, a subset of the data, namely the data for the municipality of Santa Clara, CA, is used to create the database behind several algorithms used. Conducting an A/B testing between this subset and another mutually exclusive subset is strongly recommended."
   ]
  },
  {
   "cell_type": "markdown",
   "id": "f571ef61",
   "metadata": {},
   "source": [
    "### 2. Data Preprocessing"
   ]
  },
  {
   "cell_type": "markdown",
   "id": "f9fd7382",
   "metadata": {},
   "source": [
    "The original dataset was obtained from [yelp's dataset API](https://www.yelp.com/dataset/download) made available in json format for academic, educational, and personal purposes. This data contained the information about all the businesses, users, check-ins, and user reviews which were leveraged to create a dataset on which exploratory data analysis was conducted and recommendation models created. "
   ]
  },
  {
   "cell_type": "markdown",
   "id": "cb7b9ace",
   "metadata": {},
   "source": [
    "#### Data Dictionary"
   ]
  },
  {
   "cell_type": "markdown",
   "id": "db0bf919",
   "metadata": {},
   "source": [
    "The `business` dataset contains the following fields:\n",
    "\n",
    "- business_id : unique Business ID\n",
    "- name : name of business\n",
    "- address : business address\n",
    "- city : city in which business is located in\n",
    "- state : state in which business is located in\n",
    "- postal_code : postal code of business\n",
    "- latitude : latitude of business\n",
    "- longitude : longitude of business\n",
    "- stars : average star rating of the business\n",
    "- review_count : number of reviews business received\n",
    "- is_open : whether business is currently open\n",
    "- attributes : business attributes\n",
    "- categories : business categories\n",
    "- hours : business hours"
   ]
  },
  {
   "cell_type": "markdown",
   "id": "e6bcf77b",
   "metadata": {},
   "source": [
    "The `checkin` dataset contains the following fields:\n",
    "\n",
    "- business_id : Unique Business ID\n",
    "- date : dates of all check-ins at the business on social media"
   ]
  },
  {
   "cell_type": "markdown",
   "id": "c21507c2",
   "metadata": {},
   "source": [
    "The `user` dataset contains the following fields:\n",
    "\n",
    "- user_id : unique User ID\n",
    "- name : name of user\n",
    "- review_count : number of reviews written by user\n",
    "- yelping_since : when the user joined Yelp, formatted like YYYY-MM-DD\n",
    "- useful : number of useful votes sent by the user\n",
    "- funny : number of funny votes sent by the user\n",
    "- cool : number of cool votes sent by the user\n",
    "- elite : the years the user was elite\n",
    "- friends : an array of the user's friend as user_ids\n",
    "- fans : number of fans the user has\n",
    "- average_stars : average rating of all reviews\n",
    "- compliment_hot : number of hot compliments received by the user\n",
    "- compliment_more : number of more compliments received by the user\n",
    "- compliment_profile : number of profile compliments received by the user\n",
    "- compliment_cute : number of cute compliments received by the user\n",
    "- compliment_list : number of list compliments received by the user\n",
    "- compliment_note : number of note compliments received by the user\n",
    "- compliment_plain : number of plain compliments received by the user\n",
    "- compliment_cool : number of cool compliments received by the user\n",
    "- compliment_funny : number of funny compliments received by the user\n",
    "- compliment_writer : number of writer compliments received by the user\n",
    "- compliment_photos : number of photo compliments received by the user"
   ]
  },
  {
   "cell_type": "markdown",
   "id": "94c7ac26",
   "metadata": {},
   "source": [
    "The `review` dataset contains the following fields:\n",
    "\n",
    "- review_id : unique review id\n",
    "- user_id : unique user id\n",
    "- business_id : unique business id\n",
    "- stars : star rating\n",
    "- useful : number of useful votes received\n",
    "- funny : number of funny votes received\n",
    "- cool : number of cool votes received\n",
    "- text : the review itself\n",
    "- date : date formatted YYYY-MM-DD"
   ]
  },
  {
   "cell_type": "markdown",
   "id": "3f66ed3c",
   "metadata": {},
   "source": [
    "The overall data preprocessing was executed as illustrated in Figure 4.\n",
    "\n",
    "1. The `attributes`, `categories`, `hours` fields of the `business` table are in a dictionary-like string format in a somewhat inconsistent manner and was expanded such that each attribute, category, and opening hour is a separate column.\n",
    "\n",
    "2. Key features in the `business` table are joined with the `review` table on the `business_id` field. \n",
    "\n",
    "3. Key features in the `users` table are joined with the `review` table on the `user_id` field.\n",
    "\n",
    "4. The discrete 5-star rating system is combined with the sentiment score of the review (i.e. the `text` field of the `review` table) to be a continuous score.\n",
    "\n",
    "5. Unneccesary columns, namely `review_id` and `text` of the `review` table, are dropped. For the regression algorithm using neural-network, `user_id`and `business_id` are additionally dropped."
   ]
  },
  {
   "cell_type": "markdown",
   "id": "9f944726",
   "metadata": {},
   "source": [
    "In addition to the steps above, the `date` field of the `checkin` table is feature engineered such that the total number of check-ins is calculated from the individual check-in dates for each business. Then, the check-in counts are added as a new field to the `review` table."
   ]
  },
  {
   "cell_type": "markdown",
   "id": "c9fc5f6e",
   "metadata": {},
   "source": [
    "Furthermore, the individual fields in the table are corrected to the appropriate types. Also,the table is checked for duplicated rows and null values (i.e. NaN) are imputed/dropped as appropriate.\n",
    "\n",
    "Finally, feature selection is conducted. For the business attributes and categories, those containing more than 75% of unknown values are not considered indicative of the target variable (i.e., the business rating) and are dropped from the dataset."
   ]
  },
  {
   "cell_type": "markdown",
   "id": "cf417808",
   "metadata": {},
   "source": [
    "Note that steps 4. and 5. are demonstrated in the following section, which is 5.3 Exploratory Data Analysis & Preparation for Modelling."
   ]
  },
  {
   "attachments": {},
   "cell_type": "markdown",
   "id": "97431fc2",
   "metadata": {},
   "source": [
    "**Figure 4. Data Preprocessing Overview**\n",
    "<div>\n",
    "<img src=\"data_cleaning_process.jpg\" width=\"600\">\n",
    "</div>"
   ]
  },
  {
   "cell_type": "markdown",
   "id": "bdb0f659",
   "metadata": {},
   "source": [
    "The data saved as csv files are read-in as dataframes and cleaned. Also, the four datasets are combined into a single dataset."
   ]
  },
  {
   "cell_type": "markdown",
   "id": "1280b370",
   "metadata": {},
   "source": [
    "### 3. Exploratory Data Analysis"
   ]
  },
  {
   "cell_type": "markdown",
   "id": "e10b6a96",
   "metadata": {},
   "source": [
    "#### Procedure"
   ]
  },
  {
   "cell_type": "markdown",
   "id": "12f426fc",
   "metadata": {},
   "source": [
    "Following the majority of data preprocessing, an exploratory data analysis was performed to obtain key insights about the customer preferences and successful businesses, which formed the basis for the subsequent modelling process. In particular, the following questions were addressed:\n",
    "\n",
    "- What are the general distributions of business and user features? Do most people tend to behave in a certain way? Do most businesses tend to have a certain characteristic? If so, what are those tendencies?\n",
    "\n",
    "\n",
    "- What are the words most commonly found in the positive reviews? What are commonly found in the negative reviews?\n",
    "\n",
    "\n",
    "- Is there any relationship between the time a review was written and the rating?\n",
    "\n",
    "\n",
    "- Which features about a business or user are related to a high user rating? What are related to a low rating?\n",
    "\n",
    "\n",
    "- Is there a relationship between the geographic location of a business and the user rating on the business?\n",
    "\n",
    "\n",
    "- Are some of the independent features correlated with other features, creating redundancy in the independent variables (i.e. is there any multicollinearity present?)? "
   ]
  },
  {
   "cell_type": "markdown",
   "id": "1fa46cca",
   "metadata": {},
   "source": [
    "#### Insights"
   ]
  },
  {
   "cell_type": "markdown",
   "id": "20955a3a",
   "metadata": {},
   "source": [
    "The insights drawn from the exploratory data analysis are summarized as below."
   ]
  },
  {
   "cell_type": "markdown",
   "id": "e38625f8",
   "metadata": {},
   "source": [
    "| Item | Problem | Findings / Insights |\n",
    "| :--- | :--- | :--- |\n",
    "| 1 | General Distribution | Users mostly give 2-4 ratings. Most businesses still open, provide bike parking, accept creditcard, do not have parking garage or other parking options (street, valet, validated parking) but have parking lots. Business average stars mostly normally distributed.|\n",
    "| 2 | Key Words in Positive/Negative Reviews | Quality of the food (for restaurants), cutomer service, communications (i.e. wrong orders, unpleasant dialogues, etc. |\n",
    "| 3 | Review Time vs Rating | Users tend to rate around 4.1 recently. Lower rates on Mondays and Sundays, and at 11 a.m. |\n",
    "| 4 | Features Most Related to Rating | **Business reputation (i.e., average rating) & user average rating**. Aside from these, ratings are highly depedent on **personal preferences** rather than certain features/attributes. |\n",
    "| 5 | Geographic Location vs Rating | Low ratings are mostly found in the urban, crowded areas. High ratings on the outskirts. |\n",
    "| 6 | Multicollinear Features | Opening/closing hours among business days, types of compliments, `bars` and `night life` |"
   ]
  },
  {
   "cell_type": "markdown",
   "id": "673a7dd1",
   "metadata": {},
   "source": [
    "### 4. Modelling"
   ]
  },
  {
   "cell_type": "markdown",
   "id": "f6245d5e",
   "metadata": {},
   "source": [
    "From the exploratory data analysis (EDA), several the insights were drawn, most noteable of which were:\n",
    "\n",
    "- Average business/user ratings are the two best predictors of the individual ratings. In other words, the higher the reputation of a business, or the more generous a user is to rate, the higher the rating user would give a business. (This is rather unsurprising because an average business or user rating is the result of all the individual ratings for the business/user.)\n",
    "\n",
    "\n",
    "- Apart from the two features above, no feature is a good predictor of the rating. Rather, the personal preference of each user plays a bigger role in deciding the final rating.\n",
    "\n",
    "\n",
    "The above insights were used to form the basis of the recommendation algorithms. Several algorithms considered and the logic behind the algorithms are as follows: \n",
    "\n",
    "- **Content-based filtering** : Of all the businesses a user rated, select the user's favourite (i.e., most highly rated). If the favourite business is sufficiently highly rated, then recommend n businesses most similar to the favourite. (Figure 5). The content-based filtering approach attempts to answer the following questions - ***What are the places most similar to your favourite?***"
   ]
  },
  {
   "cell_type": "markdown",
   "id": "748289d1",
   "metadata": {},
   "source": [
    "**Figure 5. Content-Based Filtering**"
   ]
  },
  {
   "cell_type": "markdown",
   "id": "88817195",
   "metadata": {},
   "source": [
    "<div>\n",
    "<img src=\"contentbased.jpg\" width=\"500\"/>\n",
    "</div>"
   ]
  },
  {
   "cell_type": "markdown",
   "id": "b07748f2",
   "metadata": {},
   "source": [
    "- **User-based Collaborative Filtering (using K Nearest Neighbor)** : Given a user U, all the businesses rated by the user, and a business (or item) I not yet rated by U, select all other users who have rated I and at least one of the business rated by U. Then, based on the ratings between U and the other users, select *K* users most similar to user U. Subsequently, the user U's likely rating on I is estimated by the **average** ratings of the K users on business I. This way, predict all items not yet reviewed by U, sort them in order, then make n recommendations (Figure 6). The user-based collaborative filtering approach attempts to answer the following questions - ***What are the places people most similar to you enjoyed?***"
   ]
  },
  {
   "cell_type": "markdown",
   "id": "1eaac6c8",
   "metadata": {},
   "source": [
    "**Figure 6. User-Based Collaborative Filtering**"
   ]
  },
  {
   "cell_type": "markdown",
   "id": "41b8ccda",
   "metadata": {},
   "source": [
    "<div>\n",
    "<img src=\"userbased.jpg\" width=\"500\"/>\n",
    "</div>"
   ]
  },
  {
   "cell_type": "markdown",
   "id": "cf625535",
   "metadata": {},
   "source": [
    "- **Model-Based Collaborative Filtering (Singular-Vector Decomposition)** : Based on all the user-business ratings, train a machine to learn p **arbitrary** business characteristics to measure every businesses against (i.e., how much a given business corresponds to each of the p characteristics), and how much every user prefers those p characteristics. With this extensive information on business characteristics and user preferences, predict the pairwise rating between every user and business. Then, make n recommendations for a given user based on the predicted ratrings. The model-based filtering approach attempts to answer the following questions - ***What are your preferences for a business, and which businesses most closely meet those preferences?***"
   ]
  },
  {
   "cell_type": "markdown",
   "id": "e3176dee",
   "metadata": {},
   "source": [
    "- **Regression (with Neural Network)** : Given all users, businesses, and ratings thereof, train a machine to learn a complex mathematical relationship between all the users and businesses. Then, make n recommendations for a given user based on the predicted ratrings. The regression approach attempts to answer the following questions - ***Assuming there is a complex mathematical relationship between your behaviour (i.e. your Yelp profile info), business features, and your rating on the business thereof, which businesses are you most likely to enjoy based on that relationship?***"
   ]
  },
  {
   "cell_type": "markdown",
   "id": "a08eeeb7",
   "metadata": {},
   "source": [
    "Both the model-based collaborative filtering and regression approaches can be illustrated as shown in Figure 7."
   ]
  },
  {
   "cell_type": "markdown",
   "id": "aab77c1a",
   "metadata": {},
   "source": [
    "**Figure 7. SVD Decomposition & NN Regression**"
   ]
  },
  {
   "cell_type": "markdown",
   "id": "c2ad7446",
   "metadata": {},
   "source": [
    "<div>\n",
    "<img src=\"regression.jpg\" width=\"800\"/>\n",
    "</div>"
   ]
  },
  {
   "cell_type": "markdown",
   "id": "e547de37",
   "metadata": {},
   "source": [
    "#### Performance Metrics"
   ]
  },
  {
   "cell_type": "markdown",
   "id": "d7380636",
   "metadata": {},
   "source": [
    "To evaluate the performances of these algorithms, or to compare algorithms to one another, it was important to decide the performance metrics. In this process, it was determined that two considerations were necessary : accuracy and relevance.\n",
    "\n",
    "- Accuracy : how accurately did the model predict the businesses a given user would enjoy? And\n",
    "- Relevance : how similar are the recommended businesses to the user's favourite businesses?\n",
    "\n",
    "For accuracy, **Root Mean Square Error (RMSE)** and **Mean Absolute Error (RAE)** were used, which measure the deviation of predictions from the actual ratings in the unit of rating.\n",
    "\n",
    "For relevance, especially important for the content-based algorithm, the **cosine similarity** between the recommended businesses and a given user's favourite business(es) were reviewed."
   ]
  },
  {
   "cell_type": "markdown",
   "id": "5d02cbf3",
   "metadata": {},
   "source": [
    "### 5. Insights and Final Model"
   ]
  },
  {
   "cell_type": "markdown",
   "id": "968422ff",
   "metadata": {},
   "source": [
    "Based on the review of each recommendation algorithm, insights on each model's accuracy and relevance were drawn. In particular, a **T-SNE plot**, which is the 2D representation of every business based its business features, was utilized to see how close the recommended businesses were to the other businesses a given user has tried, including their favourite."
   ]
  },
  {
   "cell_type": "markdown",
   "id": "2a5132fe",
   "metadata": {},
   "source": [
    "The biggest red translucent dot represents a user's most highly rated business, orange represents the other businesses already visited by the user, blue not yet visited, and green recommended to the user."
   ]
  },
  {
   "cell_type": "markdown",
   "id": "b027e0a3",
   "metadata": {},
   "source": [
    "#### Most Relevant & Customized Recommender - Content-Based Filtering"
   ]
  },
  {
   "cell_type": "markdown",
   "id": "3c7008a5",
   "metadata": {},
   "source": [
    "As can be seen in the T-SNE plot (Figure 8), all businesses recommended by the content-based filtering algorithm were located close to the user's favourite.\n",
    "\n",
    "The average cosine distance of the recommended businesses to 1000 randomly drawn users' 50 most liked businesses was calculated to be **0.19**, which was close to zero and indicated that the recommendations were indeed similar to the users' favourites. \n",
    "\n",
    "The main difference between content-based filtering and the other methods was that the content-based modelling only selected businesses based on similarity and did not involve making predictions on ratings. As such, it was impossible to calculate the RMSE and RAE metrics for accuracy. That said, the model was found to to be effective in selecting businesses similar to one's favourite thereby making the recommendations indeed customized.\n",
    "\n",
    "While this would be helpful in recommending based on the users' favourites, a few caveats were identified and needed to be addressed:\n",
    "- If a given user's highest rating is low (i.e., the user has not been satisfied with any businesses they have tried), selecting businesses most similar to such business would not be helpful, and\n",
    "\n",
    "\n",
    "- if a given user wanted to try something new, recommending businesses similar to the ones already tried would not be helpful."
   ]
  },
  {
   "cell_type": "markdown",
   "id": "7087210c",
   "metadata": {},
   "source": [
    "**Figure 8. T-SNE Plot for Content-Based Filtering**<br><br>\n",
    "<div>\n",
    "<img src=\"tsne content based.jpg\" width=\"500\"/>\n",
    "</div>"
   ]
  },
  {
   "cell_type": "markdown",
   "id": "e839e2f7",
   "metadata": {},
   "source": [
    "#### Most Accurate Recommender - Neural Network Regression"
   ]
  },
  {
   "cell_type": "markdown",
   "id": "7574d441",
   "metadata": {},
   "source": [
    "The other three algorithms, namely user-based collaborative filtering, model-based filtering, and regression, were compared based on their accuracy metrics measured on the test set."
   ]
  },
  {
   "cell_type": "markdown",
   "id": "6a3a414b",
   "metadata": {},
   "source": [
    "|Model | RMSE | MAE |\n",
    "| --- | --- | --- |\n",
    "|**User-Based**| 1.21 | 0.93 |\n",
    "|**SVD**| 1.08 | 0.84 |\n",
    "|**Regression**| 0.96 | 0.68 |"
   ]
  },
  {
   "cell_type": "markdown",
   "id": "04455d47",
   "metadata": {},
   "source": [
    "In terms of model accuracy, the regression model deploying Neural Network was found to be best performing in terms of its prediction on rating.\n",
    "\n",
    "However, reviewing the T-SNE plot for regression (Figure 9), it was found that this algorithm did not focus much on the user's preferences compared to content-based filtering."
   ]
  },
  {
   "cell_type": "markdown",
   "id": "758462f4",
   "metadata": {},
   "source": [
    "**Figure 9. T-SNE Plot for Regression using Neural Network**<br><br>\n",
    "<div>\n",
    "<img src=\"tsne nn.jpg\" width=\"500\"/>\n",
    "</div>"
   ]
  },
  {
   "cell_type": "markdown",
   "id": "7484cca0",
   "metadata": {},
   "source": [
    "Most of these recommended businesses had very high ratings on Yelp, and it was found that Neural Network tended to recommend businesses that were popular. This is consistent with the insight drawn from the exploratory data analysis, where a rating is likely to be high if a business' average rating is high."
   ]
  },
  {
   "cell_type": "markdown",
   "id": "253908c1",
   "metadata": {},
   "source": [
    "#### Accuracy vs Relevance - Need for Combination"
   ]
  },
  {
   "cell_type": "markdown",
   "id": "3179786b",
   "metadata": {},
   "source": [
    "It has been seen that the most accurate recommendations (i.e., NN regression) cannot be unique to each user, while the most relevant recommendations (i.e., content-based) do not always guarantee that the person will like the business (Figure 10). To mitigate the downside of each model and maximize benefit, a **hybrid** of these two models is created."
   ]
  },
  {
   "cell_type": "markdown",
   "id": "e7feb370",
   "metadata": {},
   "source": [
    "**Figure 10. Accuracy vs Relevance**\n",
    "<div>\n",
    "<img src=\"scale.jpg\" width=\"800\"/>\n",
    "</div>"
   ]
  },
  {
   "cell_type": "markdown",
   "id": "a7169b02",
   "metadata": {},
   "source": [
    "The hybrid algorithm was created considering three cases:\n",
    "\n",
    "1. A new user without prior record of visiting businesses on Yelp,\n",
    "2. A user not satisfied with any businesses visited (i.e. most highly rated business of less than 4), and\n",
    "3. A user satisfied with at least one business they have tried (i.e. most highly rated business of 4 or greater).\n",
    "\n",
    "#### Case 1. New User\n",
    "\n",
    "New users are simply recommended the businesses on Yelp that were most highly rated (i.e., highest average business rating). These recommendations are made with a message ***Welcome to Yelp, try these most popular places on Yelp!***.\n",
    "\n",
    "#### Case 2. User Not Satisfied with any Business on Yelp\n",
    "\n",
    "For users not satisfied with any businesses on Yelp, it was decided that there was no need for trying to select businesses similar to the user's most highly rated. Therefore in this case, all ten recommendations were made from Neural Network regression with a message saying ***You can't go wrong with these places. Why don't you give them a try!***.\n",
    "\n",
    "Not only do these recommendations have the most high probability of satisfaction while considering a given user's preferences to some degree, the message saying that they \"can't go wrong\" may provide them the comforting impression that they are still valued customers after the unsatisfactory experiences from their previous visits.\n",
    "\n",
    "Figure 11 illustrates this case."
   ]
  },
  {
   "cell_type": "markdown",
   "id": "c8aacd5a",
   "metadata": {},
   "source": [
    "**Figure 11. Case when User Not Satisfied with any Business on Yelp**\n",
    "<div>\n",
    "<img src=\"unhappy_user.jpg\" width=\"400\"/>\n",
    "</div>"
   ]
  },
  {
   "cell_type": "markdown",
   "id": "aba420fc",
   "metadata": {},
   "source": [
    "#### Case 3. User Satisfied with at Least One Business"
   ]
  },
  {
   "cell_type": "markdown",
   "id": "de5a40c7",
   "metadata": {},
   "source": [
    "The hybrid model is deployed when a user was satisfied with at least one of the businesses they have tried. In this case, 5 most highly ranked businesses in both the content-based and regression are selected, followed by 3 other businesses solely based on content-based filtering in case the user were more interested in visiting places similar to the one they liked the most regardless of the reputation, followed by 2 more businesses solely based on regression to provide them the opportunity to try other places. These recommendations are made with a message ***Because you liked*** *(your favourite place),* ***these popular places similar to*** *(your favourite place)* ***are recommended***."
   ]
  },
  {
   "cell_type": "markdown",
   "id": "98eee161",
   "metadata": {},
   "source": [
    "Figure 12 illustrates this case."
   ]
  },
  {
   "cell_type": "markdown",
   "id": "810d1cd9",
   "metadata": {},
   "source": [
    "**Figure 12. Case when User Satisfied at Least One Business on Yelp**\n",
    "<div>\n",
    "<img src=\"happy_user.jpg\" width=\"400\"/>\n",
    "</div>"
   ]
  },
  {
   "cell_type": "markdown",
   "id": "71b88d8e",
   "metadata": {},
   "source": [
    "As can be seen in the T-SNE representation of this third case (Figure 13), the hybrid recommender provides recommendations that are mostly similar to the user's favourite, while providing a few other recommendations for a variety of choice."
   ]
  },
  {
   "cell_type": "markdown",
   "id": "cbcb8954",
   "metadata": {},
   "source": [
    "**Figure 13. T-SNE Plot for Hybrid Recommender**\n",
    "<div>\n",
    "<img src=\"tsne hybrid.jpg\" width=\"500\"/>\n",
    "</div>"
   ]
  },
  {
   "cell_type": "markdown",
   "id": "4b9c9544",
   "metadata": {},
   "source": [
    "### 6. Summary"
   ]
  },
  {
   "cell_type": "markdown",
   "id": "d4950f2f",
   "metadata": {},
   "source": [
    "To improve the current recommendation system of Yelp, an online platform for sharing experiences with local businesses, a new recommender is developed with two purposes. First, to create a customized recommender unique to each user that makes accurate predictions and relevant with the user's past experiences, and second, to provide the users with the reasons behind recommendations to build credibility of the recommendations.\n",
    "\n",
    "Based on the analysis on user and business features, it was found that the rating was highly dependent on each user's preferences, and that the only other good predictors of ratings are the business/user average ratings. In other words, the general popularity and reputation of a business was the best way to ensure that a given user would like the business.\n",
    "\n",
    "With this insight in mind, several recommendation algorithms were considered, of which content-based filtering and regression using neural network were found to be most effective. While content-based filtering focused on finding businesses similar to the users' favourites, the regression algorithm was found to recommend businesses that were generally popular. The content-based model scored a cosine distance of 0.19 while regression scored a root mean square error and mean absolute error of 0.96 and 0.68 respectively.\n",
    "\n",
    "To utiize the strength of each algorithm, a hybrid recommender combining content-based filtering and regression was created such that each user was recommended either businesses similar to their favourites, or generally popular businesses based on their user activity on Yelp.\n",
    "\n",
    "In particular, the recommender was programmed such that the reason for the recommendations was provided for a higher credibility in the recommendations.\n",
    "\n",
    "Implementation of this new recommender is expected to improve user experience and public reputation of Yelp thereby retaining current users while lowering churn rate.\n",
    "\n",
    "As for the future action items, it is recommended to run an A/B testing on this new recommendation which was built on the dataset for Santa Clara, CA, against a control group to determine the statistical significance of its effectiveness. Upon validating the improvement, it is recommended to productionize the recommender such that scheduled updates are automated an"
   ]
  }
 ],
 "metadata": {
  "kernelspec": {
   "display_name": "Python 3 (ipykernel)",
   "language": "python",
   "name": "python3"
  },
  "language_info": {
   "codemirror_mode": {
    "name": "ipython",
    "version": 3
   },
   "file_extension": ".py",
   "mimetype": "text/x-python",
   "name": "python",
   "nbconvert_exporter": "python",
   "pygments_lexer": "ipython3",
   "version": "3.9.7"
  }
 },
 "nbformat": 4,
 "nbformat_minor": 5
}
