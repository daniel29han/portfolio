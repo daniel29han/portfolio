{
 "cells": [
  {
   "cell_type": "markdown",
   "id": "3ff69bf0",
   "metadata": {},
   "source": [
    "# Competition Project : Classification of Sincere/Insincere Questions on Quora - Part 3"
   ]
  },
  {
   "cell_type": "markdown",
   "id": "e31a5c49",
   "metadata": {},
   "source": [
    "**Prepared by:** Daniel Han<br>\n",
    "**Prepared for:** Brainstation"
   ]
  },
  {
   "cell_type": "code",
   "execution_count": 1,
   "id": "293094ae",
   "metadata": {},
   "outputs": [],
   "source": [
    "# Ignore Warnings\n",
    "import warnings\n",
    "warnings.filterwarnings('ignore')"
   ]
  },
  {
   "cell_type": "markdown",
   "id": "06c9b861",
   "metadata": {},
   "source": [
    "### Load Data & Dependencies"
   ]
  },
  {
   "cell_type": "markdown",
   "id": "55748b73",
   "metadata": {},
   "source": [
    "##### Basic Libraries"
   ]
  },
  {
   "cell_type": "code",
   "execution_count": 2,
   "id": "a01275c4",
   "metadata": {},
   "outputs": [],
   "source": [
    "# Import libraries\n",
    "\n",
    "import pandas as pd\n",
    "import numpy as np\n",
    "import matplotlib.pyplot as plt\n",
    "import seaborn as sns"
   ]
  },
  {
   "cell_type": "markdown",
   "id": "940b78f7",
   "metadata": {},
   "source": [
    "##### Plotly Visualization"
   ]
  },
  {
   "cell_type": "code",
   "execution_count": 3,
   "id": "f5706e01",
   "metadata": {},
   "outputs": [],
   "source": [
    "import plotly.express as px"
   ]
  },
  {
   "cell_type": "markdown",
   "id": "78f12285",
   "metadata": {},
   "source": [
    "##### Gensim for Tokenization"
   ]
  },
  {
   "cell_type": "code",
   "execution_count": 4,
   "id": "c5585fe1",
   "metadata": {},
   "outputs": [],
   "source": [
    "# Import Genism library\n",
    "import gensim"
   ]
  },
  {
   "cell_type": "markdown",
   "id": "fc7a4ed2",
   "metadata": {},
   "source": [
    "##### NLTK and SpaCy for Stopwords and Lemmatization"
   ]
  },
  {
   "cell_type": "code",
   "execution_count": 5,
   "id": "eb1c87d0",
   "metadata": {},
   "outputs": [],
   "source": [
    "# The following code is only required if nltk packages are not already installed.\n",
    "# import nltk\n",
    "# nltk.download()"
   ]
  },
  {
   "cell_type": "code",
   "execution_count": 6,
   "id": "5e87e496",
   "metadata": {
    "scrolled": true
   },
   "outputs": [],
   "source": [
    "# Import libraries\n",
    "from nltk.corpus import stopwords\n",
    "# from nltk.stem import WordNetLemmatizer \n",
    "import spacy"
   ]
  },
  {
   "cell_type": "code",
   "execution_count": 7,
   "id": "d76311f6",
   "metadata": {},
   "outputs": [],
   "source": [
    "# Loading stopwords from spacy\n",
    "stopwords_spacy=spacy.load(\"en_core_web_sm\").Defaults.stop_words\n",
    "\n",
    "# Loading stopwords from NLTK\n",
    "stopwords_nltk = stopwords.words('english')\n",
    "\n",
    "# combining the stopword list\n",
    "combined_stopwords = set((set(stopwords_spacy)|set(stopwords_nltk)))"
   ]
  },
  {
   "cell_type": "code",
   "execution_count": 8,
   "id": "9ac043b3",
   "metadata": {},
   "outputs": [],
   "source": [
    "# Create Lemmatizer from SpaCy Library\n",
    "lemmatizer = spacy.load('en_core_web_sm', disable = ['parser','ner'])"
   ]
  },
  {
   "cell_type": "code",
   "execution_count": 9,
   "id": "4030e04a",
   "metadata": {},
   "outputs": [],
   "source": [
    "# Create a custom tokenizer\n",
    "def custom_tokenizer(text: str):\n",
    "    \n",
    "# Step 1 - Tokenization\n",
    "    \n",
    "    # tokenize given string using Gensim's preprocessor\n",
    "    tokenized = gensim.utils.simple_preprocess(text) # This returns a list of strings\n",
    "    \n",
    "# Step 2 - Stopword Removal\n",
    "    \n",
    "    # Create an empty list of non-stopwords\n",
    "    tokenized_no_stopwords = []\n",
    "\n",
    "    # Loop over the tokenized list of strings and add only non-stopwords to the empty list above\n",
    "    for i in tokenized:\n",
    "        if i not in combined_stopwords:\n",
    "            tokenized_no_stopwords.append(i) # At the end of this for loop, a list of strings is returned\n",
    "    \n",
    "# Step 3 - Lemmatization\n",
    "    \n",
    "    # Create an instance of SpaCy.Token.doc.Doc using the stopword-removed list of strings\n",
    "    doc = lemmatizer(' '.join(tokenized_no_stopwords))\n",
    "    \n",
    "    # Create a final lsist, which should contain all lemmatized, non-stopwords, without any numerical or special characters.\n",
    "    final_string = [token.lemma_ for token in doc]\n",
    "    \n",
    "    return final_string"
   ]
  },
  {
   "cell_type": "markdown",
   "id": "6fc5f8c0",
   "metadata": {},
   "source": [
    "##### Sci-kit Learn"
   ]
  },
  {
   "cell_type": "code",
   "execution_count": 10,
   "id": "fc0488c2",
   "metadata": {},
   "outputs": [],
   "source": [
    "# Import Sci-kit Learn Libraries\n",
    "from sklearn.model_selection import train_test_split, StratifiedKFold\n",
    "from sklearn.preprocessing import StandardScaler\n",
    "from sklearn.utils import resample\n",
    "from sklearn.metrics import classification_report, confusion_matrix, precision_score, accuracy_score, recall_score, f1_score\n",
    "from sklearn.base import BaseEstimator, TransformerMixin"
   ]
  },
  {
   "cell_type": "markdown",
   "id": "f192f4df",
   "metadata": {},
   "source": [
    "##### XGBoost"
   ]
  },
  {
   "cell_type": "code",
   "execution_count": 11,
   "id": "56edd972",
   "metadata": {},
   "outputs": [],
   "source": [
    "# Import XGBoost\n",
    "from xgboost import XGBClassifier"
   ]
  },
  {
   "cell_type": "markdown",
   "id": "808e57a8",
   "metadata": {},
   "source": [
    "##### Tensorflow & Keras"
   ]
  },
  {
   "cell_type": "code",
   "execution_count": 12,
   "id": "3ba8e168",
   "metadata": {},
   "outputs": [],
   "source": [
    "# pip install tensorflow-text"
   ]
  },
  {
   "cell_type": "code",
   "execution_count": 13,
   "id": "79d64bf2",
   "metadata": {},
   "outputs": [],
   "source": [
    "# pip install tensorflow-addons"
   ]
  },
  {
   "cell_type": "code",
   "execution_count": 14,
   "id": "1f7004cd",
   "metadata": {},
   "outputs": [],
   "source": [
    "# Import Tensorflow and Keras\n",
    "import tensorflow as tf\n",
    "from tensorflow import keras\n",
    "import tensorflow_hub as hub\n",
    "import tensorflow_text as text\n",
    "import tensorflow_addons as tfa\n",
    "import keras.backend as K"
   ]
  },
  {
   "cell_type": "markdown",
   "id": "36c18b27",
   "metadata": {},
   "source": [
    "#### Load Data, Train-Test Split, Downsampling"
   ]
  },
  {
   "cell_type": "code",
   "execution_count": 36,
   "id": "ecaa9b82",
   "metadata": {},
   "outputs": [],
   "source": [
    "# Read in csv\n",
    "df_full = pd.read_csv('train.csv', index_col = 0)"
   ]
  },
  {
   "cell_type": "code",
   "execution_count": 37,
   "id": "972ca2bd",
   "metadata": {},
   "outputs": [],
   "source": [
    "# Keep 50 percent of data and discard rest\n",
    "df, df_discard = train_test_split(df_full, test_size = 0.5, stratify = df_full['target'])"
   ]
  },
  {
   "cell_type": "code",
   "execution_count": 38,
   "id": "7e254373",
   "metadata": {},
   "outputs": [],
   "source": [
    "# Separate dataframe into dependant and independant variables\n",
    "X = df.iloc[:, :-1]['question_text']\n",
    "y = df.iloc[:, -1]"
   ]
  },
  {
   "cell_type": "code",
   "execution_count": 39,
   "id": "e1b7bb8e",
   "metadata": {},
   "outputs": [],
   "source": [
    "# Import train_test_split\n",
    "from sklearn.model_selection import train_test_split"
   ]
  },
  {
   "cell_type": "code",
   "execution_count": 40,
   "id": "85a9fd4c",
   "metadata": {},
   "outputs": [],
   "source": [
    "# Split into Train and Test sets\n",
    "X_train_full, X_test, y_train_full, y_test = train_test_split(X, y, test_size = 0.2, stratify = y)"
   ]
  },
  {
   "cell_type": "code",
   "execution_count": 41,
   "id": "73eeee30",
   "metadata": {},
   "outputs": [],
   "source": [
    "# Downsample class 0\n",
    "X_downsampled, y_downsampled = resample(X_train_full[y_train_full == 0],\n",
    "                                       y_train_full[y_train_full == 0],\n",
    "                                       replace = True,\n",
    "                                       n_samples = X_train_full[y_train_full == 1].shape[0])"
   ]
  },
  {
   "cell_type": "code",
   "execution_count": 42,
   "id": "b85b8baa",
   "metadata": {},
   "outputs": [],
   "source": [
    "# Concateneate downsampled class 0 with class 1\n",
    "X_train = pd.concat((X_train_full[y_train_full == 1], X_downsampled))\n",
    "y_train = np.hstack((y_train_full[y_train_full == 1], y_downsampled))"
   ]
  },
  {
   "cell_type": "markdown",
   "id": "39f1b6e1",
   "metadata": {},
   "source": [
    "### 5.6 Deep Learning Approach"
   ]
  },
  {
   "cell_type": "markdown",
   "id": "e983b65f",
   "metadata": {},
   "source": [
    "Following the standard machine learning algorithms, a neural network is constructed to solve the same classification problem, and the performances are compared. Due to the computing limitations, the original training model is reduced down such that the number of rows is approximately 10 times greater than the number of columns (i.e. 768, which will be discussed in a subsequent section), and the training of the deep learning model is computed once with 100 epochs."
   ]
  },
  {
   "cell_type": "markdown",
   "id": "9f7251ae",
   "metadata": {},
   "source": [
    "#### 5.6.1 BERT Encoding"
   ]
  },
  {
   "cell_type": "markdown",
   "id": "12fdb7f3",
   "metadata": {},
   "source": [
    "For the vectorization of the input, BERT is implemented. BERT is an encoder developed by Google. This encoder is the hidden layer of a deep neural network pretrained on the sentences on Wikipedia. BERT converts every document in the corpus to a vector of 768 dimensions. While similar to the Word2Vec encoder discussed earlier in the analysis, the BERT encoder is capable of holding the contextual meaning of a word that may have multiple meanings (e.g. fair). The APIs made available from Tensorflow are used, namely the BERT preprocesser (for tokenization) and BERT encoder (for embedding)."
   ]
  },
  {
   "cell_type": "code",
   "execution_count": 43,
   "id": "1777358a",
   "metadata": {},
   "outputs": [],
   "source": [
    "# Import BERT Preprocessor and Encoder\n",
    "bert_preprocess = hub.KerasLayer('https://tfhub.dev/tensorflow/bert_en_uncased_preprocess/3')\n",
    "bert_encoder = hub.KerasLayer('https://tfhub.dev/tensorflow/bert_en_uncased_L-12_H-768_A-12/4')"
   ]
  },
  {
   "cell_type": "markdown",
   "id": "9190fc8e",
   "metadata": {},
   "source": [
    "A function combining the preprocessor and encoder above can be created."
   ]
  },
  {
   "cell_type": "code",
   "execution_count": 44,
   "id": "e41e500c",
   "metadata": {},
   "outputs": [],
   "source": [
    "# Define a function that preprocesses and returns encoded vector for the entire document\n",
    "def document_encoder(documents):\n",
    "    return bert_encoder(bert_preprocess(documents))['pooled_output']"
   ]
  },
  {
   "cell_type": "code",
   "execution_count": 45,
   "id": "5f0bf6ad",
   "metadata": {
    "scrolled": true
   },
   "outputs": [
    {
     "data": {
      "text/plain": [
       "<tf.Tensor: shape=(2, 768), dtype=float32, numpy=\n",
       "array([[-0.9435404 , -0.39288747, -0.7429049 , ..., -0.56953377,\n",
       "        -0.75938034,  0.94859505],\n",
       "       [-0.9071073 , -0.29177663, -0.32868326, ..., -0.15330811,\n",
       "        -0.6633956 ,  0.95345896]], dtype=float32)>"
      ]
     },
     "execution_count": 45,
     "metadata": {},
     "output_type": "execute_result"
    }
   ],
   "source": [
    "# Try some questions\n",
    "document_encoder(['Why colour is the sky?', 'Where should I put my shoe?'])"
   ]
  },
  {
   "cell_type": "markdown",
   "id": "cdf9c800",
   "metadata": {},
   "source": [
    "#### 5.6.2 Neural Network Construction & Optimization"
   ]
  },
  {
   "cell_type": "markdown",
   "id": "85eeaba1",
   "metadata": {},
   "source": [
    "##### Neural Network Construction"
   ]
  },
  {
   "cell_type": "markdown",
   "id": "de8df9fa",
   "metadata": {},
   "source": [
    "Using the preprocessor and encoder above, a neural network is created. Specifically, Keras' functional API is used to construct the network. "
   ]
  },
  {
   "cell_type": "code",
   "execution_count": 46,
   "id": "43a2f4b9",
   "metadata": {},
   "outputs": [],
   "source": [
    "# Step 1 - Input Layers\n",
    "\n",
    "# This layer converts X_train (which is a pd.Series object) to a tensor containing tf.string objects\n",
    "text_input = keras.layers.Input(shape=(), dtype = tf.string, name = 'text') # Match the input shape by setting shape to ()\n",
    "# This layer preprocesses text\n",
    "preprocessed_text = bert_preprocess(text_input)\n",
    "# This layer encodes preprocessed text\n",
    "outputs = bert_encoder(preprocessed_text)\n",
    "\n",
    "\n",
    "# Step 2 - Hidden Layers\n",
    "\n",
    "# Dropout Layer\n",
    "layer_1 = keras.layers.Dropout(0.2, name = 'Dropout_1')(outputs['pooled_output'])\n",
    "# ReLU Activation Fuction\n",
    "layer_2 = keras.layers.Dense(192, activation = 'relu', name = 'relu_1')(layer_1)\n",
    "# Dropout Layer\n",
    "layer_3 = keras.layers.Dropout(0.2, name = 'Dropout_2')(layer_2)\n",
    "# ReLU Activation Fuction\n",
    "layer_4 = keras.layers.Dense(92, activation = 'relu', name = 'relu_2')(layer_3)\n",
    "# Dropout Layer\n",
    "layer_5 = keras.layers.Dropout(0.2, name = 'Dropout_3')(layer_4)\n",
    "# ReLU Activation Fuction\n",
    "layer_6 = keras.layers.Dense(16, activation = 'relu', name = 'relu_3')(layer_5)\n",
    "\n",
    "\n",
    "# Step 3 - Output layer\n",
    "\n",
    "# Output Layer - Sigmoid Activation Function\n",
    "layer_7 = keras.layers.Dense(1, activation = 'sigmoid', name = 'output')(layer_6)\n",
    "\n",
    "\n",
    "# Step 4 - Combine above layers to instantiate a machine learning model\n",
    "model = keras.Model(inputs = [text_input], outputs = [layer_7])"
   ]
  },
  {
   "cell_type": "code",
   "execution_count": 47,
   "id": "d6cb229b",
   "metadata": {},
   "outputs": [],
   "source": [
    "# Step 5 - Set Metric\n",
    "METRICS = [tf.keras.metrics.BinaryAccuracy(name = 'Accuracy')]\n",
    "\n",
    "\n",
    "# Step 6 - Compile Model\n",
    "model.compile(optimizer = 'adam', # Adam optimizer\n",
    "             loss = 'binary_crossentropy', # Binary Cross Entropy Cost Function\n",
    "             metrics = METRICS) # Accuracy is Binary Accuracy"
   ]
  },
  {
   "cell_type": "markdown",
   "id": "ce4335a4",
   "metadata": {},
   "source": [
    "Due to the computation limitations of the device, the train set is reduced such that the number of rows is 10 times larger that of the columns. This is approximately equal to one-tenth of the size of data. "
   ]
  },
  {
   "cell_type": "code",
   "execution_count": 48,
   "id": "d6d6ff98",
   "metadata": {},
   "outputs": [],
   "source": [
    "# Randomly select indices\n",
    "indices = np.random.choice(np.arange(len(X_train)), size = 7680, replace = False)\n",
    "\n",
    "# Reduce train set\n",
    "X_train_reduced = X_train[indices]\n",
    "y_train_reduced = y_train[indices]"
   ]
  },
  {
   "cell_type": "markdown",
   "id": "938c0373",
   "metadata": {},
   "source": [
    "Finally, the model constructed above is trained on the reduced train set."
   ]
  },
  {
   "cell_type": "code",
   "execution_count": 49,
   "id": "5981e15c",
   "metadata": {
    "scrolled": true
   },
   "outputs": [
    {
     "name": "stdout",
     "output_type": "stream",
     "text": [
      "Epoch 1/100\n",
      "240/240 [==============================] - 1004s 4s/step - loss: 0.6344 - Accuracy: 0.6408\n",
      "Epoch 2/100\n",
      "240/240 [==============================] - 953s 4s/step - loss: 0.5353 - Accuracy: 0.7389\n",
      "Epoch 3/100\n",
      "240/240 [==============================] - 923s 4s/step - loss: 0.5000 - Accuracy: 0.7642\n",
      "Epoch 4/100\n",
      "240/240 [==============================] - 908s 4s/step - loss: 0.4735 - Accuracy: 0.7807\n",
      "Epoch 5/100\n",
      "240/240 [==============================] - 908s 4s/step - loss: 0.4699 - Accuracy: 0.7822\n",
      "Epoch 6/100\n",
      "240/240 [==============================] - 900s 4s/step - loss: 0.4664 - Accuracy: 0.7845\n",
      "Epoch 7/100\n",
      "240/240 [==============================] - 892s 4s/step - loss: 0.4614 - Accuracy: 0.7868\n",
      "Epoch 8/100\n",
      "240/240 [==============================] - 888s 4s/step - loss: 0.4589 - Accuracy: 0.7868\n",
      "Epoch 9/100\n",
      "240/240 [==============================] - 889s 4s/step - loss: 0.4598 - Accuracy: 0.7850\n",
      "Epoch 10/100\n",
      "240/240 [==============================] - 886s 4s/step - loss: 0.4572 - Accuracy: 0.7868\n",
      "Epoch 11/100\n",
      "240/240 [==============================] - 887s 4s/step - loss: 0.4468 - Accuracy: 0.8010\n",
      "Epoch 12/100\n",
      "240/240 [==============================] - 886s 4s/step - loss: 0.4467 - Accuracy: 0.7974\n",
      "Epoch 13/100\n",
      "240/240 [==============================] - 887s 4s/step - loss: 0.4433 - Accuracy: 0.8034\n",
      "Epoch 14/100\n",
      "240/240 [==============================] - 890s 4s/step - loss: 0.4464 - Accuracy: 0.8003\n",
      "Epoch 15/100\n",
      "240/240 [==============================] - 886s 4s/step - loss: 0.4357 - Accuracy: 0.8023\n",
      "Epoch 16/100\n",
      "240/240 [==============================] - 886s 4s/step - loss: 0.4431 - Accuracy: 0.7999\n",
      "Epoch 17/100\n",
      "240/240 [==============================] - 891s 4s/step - loss: 0.4410 - Accuracy: 0.7977\n",
      "Epoch 18/100\n",
      "240/240 [==============================] - 893s 4s/step - loss: 0.4340 - Accuracy: 0.8047\n",
      "Epoch 19/100\n",
      "240/240 [==============================] - 887s 4s/step - loss: 0.4420 - Accuracy: 0.8018\n",
      "Epoch 20/100\n",
      "240/240 [==============================] - 888s 4s/step - loss: 0.4300 - Accuracy: 0.7995\n",
      "Epoch 21/100\n",
      "240/240 [==============================] - 907s 4s/step - loss: 0.4389 - Accuracy: 0.8027\n",
      "Epoch 22/100\n",
      "240/240 [==============================] - 901s 4s/step - loss: 0.4325 - Accuracy: 0.8090\n",
      "Epoch 23/100\n",
      "240/240 [==============================] - 940s 4s/step - loss: 0.4270 - Accuracy: 0.8056\n",
      "Epoch 24/100\n",
      "240/240 [==============================] - 926s 4s/step - loss: 0.4443 - Accuracy: 0.7990\n",
      "Epoch 25/100\n",
      "240/240 [==============================] - 918s 4s/step - loss: 0.4348 - Accuracy: 0.8059\n",
      "Epoch 26/100\n",
      "240/240 [==============================] - 922s 4s/step - loss: 0.4371 - Accuracy: 0.7986\n",
      "Epoch 27/100\n",
      "240/240 [==============================] - 905s 4s/step - loss: 0.4413 - Accuracy: 0.8021\n",
      "Epoch 28/100\n",
      "240/240 [==============================] - 886s 4s/step - loss: 0.4300 - Accuracy: 0.8070\n"
     ]
    },
    {
     "data": {
      "text/plain": [
       "<keras.callbacks.History at 0x20aac861ca0>"
      ]
     },
     "execution_count": 49,
     "metadata": {},
     "output_type": "execute_result"
    }
   ],
   "source": [
    "# Step 7 - Declare an early stopping requirement such that if the loss does not increase after 10 epochs,\n",
    "# The model fitting is terminated.\n",
    "callback = tf.keras.callbacks.EarlyStopping(monitor='loss', patience=5)\n",
    "\n",
    "# Step 8 - Fit Neural Network on the reduced data\n",
    "model.fit(X_train_reduced, y_train_reduced, epochs = 100, callbacks = [callback])"
   ]
  },
  {
   "cell_type": "markdown",
   "id": "66c1fcd6",
   "metadata": {},
   "source": [
    "The neural network trained on the reduced dataset is tested on the test set to opimize the decision threshold."
   ]
  },
  {
   "cell_type": "markdown",
   "id": "70ae03b4",
   "metadata": {},
   "source": [
    "##### Threshold Optimization"
   ]
  },
  {
   "cell_type": "code",
   "execution_count": 120,
   "id": "606ba11f",
   "metadata": {},
   "outputs": [],
   "source": [
    "# Create a list of thresholds\n",
    "threshold = np.arange(0.5, 1, 0.01)\n",
    "f1_scores = []\n",
    "y_prob = model.predict(X_test) # Compute probabilities of y-labels"
   ]
  },
  {
   "cell_type": "code",
   "execution_count": 121,
   "id": "f225526d",
   "metadata": {},
   "outputs": [
    {
     "data": {
      "text/plain": [
       "array([0.83560395, 0.05502254, 0.0219402 , ..., 0.55395925, 0.01960349,\n",
       "       0.7839451 ], dtype=float32)"
      ]
     },
     "execution_count": 121,
     "metadata": {},
     "output_type": "execute_result"
    }
   ],
   "source": [
    "y_prob.reshape(-1)"
   ]
  },
  {
   "cell_type": "code",
   "execution_count": 122,
   "id": "d3c81058",
   "metadata": {},
   "outputs": [],
   "source": [
    "# For each threshold, compute the f1 score and append to the list of f1 scores under the ith key of f1_dict\n",
    "for t in threshold:\n",
    "    y_pred = np.where(y_prob >= t, 1, 0)\n",
    "    f1_scores.append(f1_score(y_test, y_pred))"
   ]
  },
  {
   "cell_type": "code",
   "execution_count": 123,
   "id": "66914ea4",
   "metadata": {
    "scrolled": false
   },
   "outputs": [
    {
     "data": {
      "application/vnd.plotly.v1+json": {
       "config": {
        "plotlyServerURL": "https://plot.ly"
       },
       "data": [
        {
         "hovertemplate": "x=%{x}<br>y=%{y}<extra></extra>",
         "legendgroup": "",
         "line": {
          "color": "#636efa",
          "dash": "solid"
         },
         "marker": {
          "symbol": "circle"
         },
         "mode": "lines",
         "name": "",
         "orientation": "v",
         "showlegend": false,
         "type": "scatter",
         "x": [
          0.5,
          0.51,
          0.52,
          0.53,
          0.54,
          0.55,
          0.56,
          0.5700000000000001,
          0.5800000000000001,
          0.5900000000000001,
          0.6000000000000001,
          0.6100000000000001,
          0.6200000000000001,
          0.6300000000000001,
          0.6400000000000001,
          0.6500000000000001,
          0.6600000000000001,
          0.6700000000000002,
          0.6800000000000002,
          0.6900000000000002,
          0.7000000000000002,
          0.7100000000000002,
          0.7200000000000002,
          0.7300000000000002,
          0.7400000000000002,
          0.7500000000000002,
          0.7600000000000002,
          0.7700000000000002,
          0.7800000000000002,
          0.7900000000000003,
          0.8000000000000003,
          0.8100000000000003,
          0.8200000000000003,
          0.8300000000000003,
          0.8400000000000003,
          0.8500000000000003,
          0.8600000000000003,
          0.8700000000000003,
          0.8800000000000003,
          0.8900000000000003,
          0.9000000000000004,
          0.9100000000000004,
          0.9200000000000004,
          0.9300000000000004,
          0.9400000000000004,
          0.9500000000000004,
          0.9600000000000004,
          0.9700000000000004,
          0.9800000000000004,
          0.9900000000000004
         ],
         "xaxis": "x",
         "y": [
          0.38178702845425694,
          0.38641176807280636,
          0.39148588279949775,
          0.3958184842005227,
          0.4005449591280654,
          0.40585347781791237,
          0.4111678326085586,
          0.41658344876461684,
          0.42349202145269155,
          0.43048046516372535,
          0.4379377977024376,
          0.4456804391794279,
          0.452099591230026,
          0.4571472416174326,
          0.4643479638726034,
          0.47192387797606894,
          0.4755568655522337,
          0.47897956527398156,
          0.4822707736389685,
          0.48510086988709966,
          0.4888252148997135,
          0.4916822521901763,
          0.49493870491886666,
          0.4972938889180811,
          0.49856048671845293,
          0.49938278532151276,
          0.49820081253627396,
          0.4947153495075666,
          0.4930452061599602,
          0.4869251577998196,
          0.4812541694462975,
          0.4693721817551162,
          0.45802077322562035,
          0.44481103779244147,
          0.4274237578971999,
          0.411674098094852,
          0.38953783646521073,
          0.36477543457160505,
          0.3318567737172388,
          0.29745860608394303,
          0.25558013271667,
          0.21343126967471146,
          0.16956189227575658,
          0.12256014525646844,
          0.07480592801693718,
          0.0357531102790192,
          0.013730538188059334,
          0.0022233201581027665,
          0,
          0
         ],
         "yaxis": "y"
        }
       ],
       "layout": {
        "legend": {
         "tracegroupgap": 0
        },
        "margin": {
         "t": 60
        },
        "template": {
         "data": {
          "bar": [
           {
            "error_x": {
             "color": "#2a3f5f"
            },
            "error_y": {
             "color": "#2a3f5f"
            },
            "marker": {
             "line": {
              "color": "#E5ECF6",
              "width": 0.5
             },
             "pattern": {
              "fillmode": "overlay",
              "size": 10,
              "solidity": 0.2
             }
            },
            "type": "bar"
           }
          ],
          "barpolar": [
           {
            "marker": {
             "line": {
              "color": "#E5ECF6",
              "width": 0.5
             },
             "pattern": {
              "fillmode": "overlay",
              "size": 10,
              "solidity": 0.2
             }
            },
            "type": "barpolar"
           }
          ],
          "carpet": [
           {
            "aaxis": {
             "endlinecolor": "#2a3f5f",
             "gridcolor": "white",
             "linecolor": "white",
             "minorgridcolor": "white",
             "startlinecolor": "#2a3f5f"
            },
            "baxis": {
             "endlinecolor": "#2a3f5f",
             "gridcolor": "white",
             "linecolor": "white",
             "minorgridcolor": "white",
             "startlinecolor": "#2a3f5f"
            },
            "type": "carpet"
           }
          ],
          "choropleth": [
           {
            "colorbar": {
             "outlinewidth": 0,
             "ticks": ""
            },
            "type": "choropleth"
           }
          ],
          "contour": [
           {
            "colorbar": {
             "outlinewidth": 0,
             "ticks": ""
            },
            "colorscale": [
             [
              0,
              "#0d0887"
             ],
             [
              0.1111111111111111,
              "#46039f"
             ],
             [
              0.2222222222222222,
              "#7201a8"
             ],
             [
              0.3333333333333333,
              "#9c179e"
             ],
             [
              0.4444444444444444,
              "#bd3786"
             ],
             [
              0.5555555555555556,
              "#d8576b"
             ],
             [
              0.6666666666666666,
              "#ed7953"
             ],
             [
              0.7777777777777778,
              "#fb9f3a"
             ],
             [
              0.8888888888888888,
              "#fdca26"
             ],
             [
              1,
              "#f0f921"
             ]
            ],
            "type": "contour"
           }
          ],
          "contourcarpet": [
           {
            "colorbar": {
             "outlinewidth": 0,
             "ticks": ""
            },
            "type": "contourcarpet"
           }
          ],
          "heatmap": [
           {
            "colorbar": {
             "outlinewidth": 0,
             "ticks": ""
            },
            "colorscale": [
             [
              0,
              "#0d0887"
             ],
             [
              0.1111111111111111,
              "#46039f"
             ],
             [
              0.2222222222222222,
              "#7201a8"
             ],
             [
              0.3333333333333333,
              "#9c179e"
             ],
             [
              0.4444444444444444,
              "#bd3786"
             ],
             [
              0.5555555555555556,
              "#d8576b"
             ],
             [
              0.6666666666666666,
              "#ed7953"
             ],
             [
              0.7777777777777778,
              "#fb9f3a"
             ],
             [
              0.8888888888888888,
              "#fdca26"
             ],
             [
              1,
              "#f0f921"
             ]
            ],
            "type": "heatmap"
           }
          ],
          "heatmapgl": [
           {
            "colorbar": {
             "outlinewidth": 0,
             "ticks": ""
            },
            "colorscale": [
             [
              0,
              "#0d0887"
             ],
             [
              0.1111111111111111,
              "#46039f"
             ],
             [
              0.2222222222222222,
              "#7201a8"
             ],
             [
              0.3333333333333333,
              "#9c179e"
             ],
             [
              0.4444444444444444,
              "#bd3786"
             ],
             [
              0.5555555555555556,
              "#d8576b"
             ],
             [
              0.6666666666666666,
              "#ed7953"
             ],
             [
              0.7777777777777778,
              "#fb9f3a"
             ],
             [
              0.8888888888888888,
              "#fdca26"
             ],
             [
              1,
              "#f0f921"
             ]
            ],
            "type": "heatmapgl"
           }
          ],
          "histogram": [
           {
            "marker": {
             "pattern": {
              "fillmode": "overlay",
              "size": 10,
              "solidity": 0.2
             }
            },
            "type": "histogram"
           }
          ],
          "histogram2d": [
           {
            "colorbar": {
             "outlinewidth": 0,
             "ticks": ""
            },
            "colorscale": [
             [
              0,
              "#0d0887"
             ],
             [
              0.1111111111111111,
              "#46039f"
             ],
             [
              0.2222222222222222,
              "#7201a8"
             ],
             [
              0.3333333333333333,
              "#9c179e"
             ],
             [
              0.4444444444444444,
              "#bd3786"
             ],
             [
              0.5555555555555556,
              "#d8576b"
             ],
             [
              0.6666666666666666,
              "#ed7953"
             ],
             [
              0.7777777777777778,
              "#fb9f3a"
             ],
             [
              0.8888888888888888,
              "#fdca26"
             ],
             [
              1,
              "#f0f921"
             ]
            ],
            "type": "histogram2d"
           }
          ],
          "histogram2dcontour": [
           {
            "colorbar": {
             "outlinewidth": 0,
             "ticks": ""
            },
            "colorscale": [
             [
              0,
              "#0d0887"
             ],
             [
              0.1111111111111111,
              "#46039f"
             ],
             [
              0.2222222222222222,
              "#7201a8"
             ],
             [
              0.3333333333333333,
              "#9c179e"
             ],
             [
              0.4444444444444444,
              "#bd3786"
             ],
             [
              0.5555555555555556,
              "#d8576b"
             ],
             [
              0.6666666666666666,
              "#ed7953"
             ],
             [
              0.7777777777777778,
              "#fb9f3a"
             ],
             [
              0.8888888888888888,
              "#fdca26"
             ],
             [
              1,
              "#f0f921"
             ]
            ],
            "type": "histogram2dcontour"
           }
          ],
          "mesh3d": [
           {
            "colorbar": {
             "outlinewidth": 0,
             "ticks": ""
            },
            "type": "mesh3d"
           }
          ],
          "parcoords": [
           {
            "line": {
             "colorbar": {
              "outlinewidth": 0,
              "ticks": ""
             }
            },
            "type": "parcoords"
           }
          ],
          "pie": [
           {
            "automargin": true,
            "type": "pie"
           }
          ],
          "scatter": [
           {
            "fillpattern": {
             "fillmode": "overlay",
             "size": 10,
             "solidity": 0.2
            },
            "type": "scatter"
           }
          ],
          "scatter3d": [
           {
            "line": {
             "colorbar": {
              "outlinewidth": 0,
              "ticks": ""
             }
            },
            "marker": {
             "colorbar": {
              "outlinewidth": 0,
              "ticks": ""
             }
            },
            "type": "scatter3d"
           }
          ],
          "scattercarpet": [
           {
            "marker": {
             "colorbar": {
              "outlinewidth": 0,
              "ticks": ""
             }
            },
            "type": "scattercarpet"
           }
          ],
          "scattergeo": [
           {
            "marker": {
             "colorbar": {
              "outlinewidth": 0,
              "ticks": ""
             }
            },
            "type": "scattergeo"
           }
          ],
          "scattergl": [
           {
            "marker": {
             "colorbar": {
              "outlinewidth": 0,
              "ticks": ""
             }
            },
            "type": "scattergl"
           }
          ],
          "scattermapbox": [
           {
            "marker": {
             "colorbar": {
              "outlinewidth": 0,
              "ticks": ""
             }
            },
            "type": "scattermapbox"
           }
          ],
          "scatterpolar": [
           {
            "marker": {
             "colorbar": {
              "outlinewidth": 0,
              "ticks": ""
             }
            },
            "type": "scatterpolar"
           }
          ],
          "scatterpolargl": [
           {
            "marker": {
             "colorbar": {
              "outlinewidth": 0,
              "ticks": ""
             }
            },
            "type": "scatterpolargl"
           }
          ],
          "scatterternary": [
           {
            "marker": {
             "colorbar": {
              "outlinewidth": 0,
              "ticks": ""
             }
            },
            "type": "scatterternary"
           }
          ],
          "surface": [
           {
            "colorbar": {
             "outlinewidth": 0,
             "ticks": ""
            },
            "colorscale": [
             [
              0,
              "#0d0887"
             ],
             [
              0.1111111111111111,
              "#46039f"
             ],
             [
              0.2222222222222222,
              "#7201a8"
             ],
             [
              0.3333333333333333,
              "#9c179e"
             ],
             [
              0.4444444444444444,
              "#bd3786"
             ],
             [
              0.5555555555555556,
              "#d8576b"
             ],
             [
              0.6666666666666666,
              "#ed7953"
             ],
             [
              0.7777777777777778,
              "#fb9f3a"
             ],
             [
              0.8888888888888888,
              "#fdca26"
             ],
             [
              1,
              "#f0f921"
             ]
            ],
            "type": "surface"
           }
          ],
          "table": [
           {
            "cells": {
             "fill": {
              "color": "#EBF0F8"
             },
             "line": {
              "color": "white"
             }
            },
            "header": {
             "fill": {
              "color": "#C8D4E3"
             },
             "line": {
              "color": "white"
             }
            },
            "type": "table"
           }
          ]
         },
         "layout": {
          "annotationdefaults": {
           "arrowcolor": "#2a3f5f",
           "arrowhead": 0,
           "arrowwidth": 1
          },
          "autotypenumbers": "strict",
          "coloraxis": {
           "colorbar": {
            "outlinewidth": 0,
            "ticks": ""
           }
          },
          "colorscale": {
           "diverging": [
            [
             0,
             "#8e0152"
            ],
            [
             0.1,
             "#c51b7d"
            ],
            [
             0.2,
             "#de77ae"
            ],
            [
             0.3,
             "#f1b6da"
            ],
            [
             0.4,
             "#fde0ef"
            ],
            [
             0.5,
             "#f7f7f7"
            ],
            [
             0.6,
             "#e6f5d0"
            ],
            [
             0.7,
             "#b8e186"
            ],
            [
             0.8,
             "#7fbc41"
            ],
            [
             0.9,
             "#4d9221"
            ],
            [
             1,
             "#276419"
            ]
           ],
           "sequential": [
            [
             0,
             "#0d0887"
            ],
            [
             0.1111111111111111,
             "#46039f"
            ],
            [
             0.2222222222222222,
             "#7201a8"
            ],
            [
             0.3333333333333333,
             "#9c179e"
            ],
            [
             0.4444444444444444,
             "#bd3786"
            ],
            [
             0.5555555555555556,
             "#d8576b"
            ],
            [
             0.6666666666666666,
             "#ed7953"
            ],
            [
             0.7777777777777778,
             "#fb9f3a"
            ],
            [
             0.8888888888888888,
             "#fdca26"
            ],
            [
             1,
             "#f0f921"
            ]
           ],
           "sequentialminus": [
            [
             0,
             "#0d0887"
            ],
            [
             0.1111111111111111,
             "#46039f"
            ],
            [
             0.2222222222222222,
             "#7201a8"
            ],
            [
             0.3333333333333333,
             "#9c179e"
            ],
            [
             0.4444444444444444,
             "#bd3786"
            ],
            [
             0.5555555555555556,
             "#d8576b"
            ],
            [
             0.6666666666666666,
             "#ed7953"
            ],
            [
             0.7777777777777778,
             "#fb9f3a"
            ],
            [
             0.8888888888888888,
             "#fdca26"
            ],
            [
             1,
             "#f0f921"
            ]
           ]
          },
          "colorway": [
           "#636efa",
           "#EF553B",
           "#00cc96",
           "#ab63fa",
           "#FFA15A",
           "#19d3f3",
           "#FF6692",
           "#B6E880",
           "#FF97FF",
           "#FECB52"
          ],
          "font": {
           "color": "#2a3f5f"
          },
          "geo": {
           "bgcolor": "white",
           "lakecolor": "white",
           "landcolor": "#E5ECF6",
           "showlakes": true,
           "showland": true,
           "subunitcolor": "white"
          },
          "hoverlabel": {
           "align": "left"
          },
          "hovermode": "closest",
          "mapbox": {
           "style": "light"
          },
          "paper_bgcolor": "white",
          "plot_bgcolor": "#E5ECF6",
          "polar": {
           "angularaxis": {
            "gridcolor": "white",
            "linecolor": "white",
            "ticks": ""
           },
           "bgcolor": "#E5ECF6",
           "radialaxis": {
            "gridcolor": "white",
            "linecolor": "white",
            "ticks": ""
           }
          },
          "scene": {
           "xaxis": {
            "backgroundcolor": "#E5ECF6",
            "gridcolor": "white",
            "gridwidth": 2,
            "linecolor": "white",
            "showbackground": true,
            "ticks": "",
            "zerolinecolor": "white"
           },
           "yaxis": {
            "backgroundcolor": "#E5ECF6",
            "gridcolor": "white",
            "gridwidth": 2,
            "linecolor": "white",
            "showbackground": true,
            "ticks": "",
            "zerolinecolor": "white"
           },
           "zaxis": {
            "backgroundcolor": "#E5ECF6",
            "gridcolor": "white",
            "gridwidth": 2,
            "linecolor": "white",
            "showbackground": true,
            "ticks": "",
            "zerolinecolor": "white"
           }
          },
          "shapedefaults": {
           "line": {
            "color": "#2a3f5f"
           }
          },
          "ternary": {
           "aaxis": {
            "gridcolor": "white",
            "linecolor": "white",
            "ticks": ""
           },
           "baxis": {
            "gridcolor": "white",
            "linecolor": "white",
            "ticks": ""
           },
           "bgcolor": "#E5ECF6",
           "caxis": {
            "gridcolor": "white",
            "linecolor": "white",
            "ticks": ""
           }
          },
          "title": {
           "x": 0.05
          },
          "xaxis": {
           "automargin": true,
           "gridcolor": "white",
           "linecolor": "white",
           "ticks": "",
           "title": {
            "standoff": 15
           },
           "zerolinecolor": "white",
           "zerolinewidth": 2
          },
          "yaxis": {
           "automargin": true,
           "gridcolor": "white",
           "linecolor": "white",
           "ticks": "",
           "title": {
            "standoff": 15
           },
           "zerolinecolor": "white",
           "zerolinewidth": 2
          }
         }
        },
        "title": {
         "text": "F1 Score on Imbalanced Data at Different Decision Thresholds<br>for Neural Network"
        },
        "xaxis": {
         "anchor": "y",
         "domain": [
          0,
          1
         ],
         "title": {
          "text": "Threshold"
         }
        },
        "yaxis": {
         "anchor": "x",
         "domain": [
          0,
          1
         ],
         "title": {
          "text": "F1 Score"
         }
        }
       }
      },
      "text/html": [
       "<div>                            <div id=\"da9ecdec-9a88-4408-a143-a3c96738cd9d\" class=\"plotly-graph-div\" style=\"height:525px; width:100%;\"></div>            <script type=\"text/javascript\">                require([\"plotly\"], function(Plotly) {                    window.PLOTLYENV=window.PLOTLYENV || {};                                    if (document.getElementById(\"da9ecdec-9a88-4408-a143-a3c96738cd9d\")) {                    Plotly.newPlot(                        \"da9ecdec-9a88-4408-a143-a3c96738cd9d\",                        [{\"hovertemplate\":\"x=%{x}<br>y=%{y}<extra></extra>\",\"legendgroup\":\"\",\"line\":{\"color\":\"#636efa\",\"dash\":\"solid\"},\"marker\":{\"symbol\":\"circle\"},\"mode\":\"lines\",\"name\":\"\",\"orientation\":\"v\",\"showlegend\":false,\"x\":[0.5,0.51,0.52,0.53,0.54,0.55,0.56,0.5700000000000001,0.5800000000000001,0.5900000000000001,0.6000000000000001,0.6100000000000001,0.6200000000000001,0.6300000000000001,0.6400000000000001,0.6500000000000001,0.6600000000000001,0.6700000000000002,0.6800000000000002,0.6900000000000002,0.7000000000000002,0.7100000000000002,0.7200000000000002,0.7300000000000002,0.7400000000000002,0.7500000000000002,0.7600000000000002,0.7700000000000002,0.7800000000000002,0.7900000000000003,0.8000000000000003,0.8100000000000003,0.8200000000000003,0.8300000000000003,0.8400000000000003,0.8500000000000003,0.8600000000000003,0.8700000000000003,0.8800000000000003,0.8900000000000003,0.9000000000000004,0.9100000000000004,0.9200000000000004,0.9300000000000004,0.9400000000000004,0.9500000000000004,0.9600000000000004,0.9700000000000004,0.9800000000000004,0.9900000000000004],\"xaxis\":\"x\",\"y\":[0.38178702845425694,0.38641176807280636,0.39148588279949775,0.3958184842005227,0.4005449591280654,0.40585347781791237,0.4111678326085586,0.41658344876461684,0.42349202145269155,0.43048046516372535,0.4379377977024376,0.4456804391794279,0.452099591230026,0.4571472416174326,0.4643479638726034,0.47192387797606894,0.4755568655522337,0.47897956527398156,0.4822707736389685,0.48510086988709966,0.4888252148997135,0.4916822521901763,0.49493870491886666,0.4972938889180811,0.49856048671845293,0.49938278532151276,0.49820081253627396,0.4947153495075666,0.4930452061599602,0.4869251577998196,0.4812541694462975,0.4693721817551162,0.45802077322562035,0.44481103779244147,0.4274237578971999,0.411674098094852,0.38953783646521073,0.36477543457160505,0.3318567737172388,0.29745860608394303,0.25558013271667,0.21343126967471146,0.16956189227575658,0.12256014525646844,0.07480592801693718,0.0357531102790192,0.013730538188059334,0.0022233201581027665,0.0,0.0],\"yaxis\":\"y\",\"type\":\"scatter\"}],                        {\"template\":{\"data\":{\"histogram2dcontour\":[{\"type\":\"histogram2dcontour\",\"colorbar\":{\"outlinewidth\":0,\"ticks\":\"\"},\"colorscale\":[[0.0,\"#0d0887\"],[0.1111111111111111,\"#46039f\"],[0.2222222222222222,\"#7201a8\"],[0.3333333333333333,\"#9c179e\"],[0.4444444444444444,\"#bd3786\"],[0.5555555555555556,\"#d8576b\"],[0.6666666666666666,\"#ed7953\"],[0.7777777777777778,\"#fb9f3a\"],[0.8888888888888888,\"#fdca26\"],[1.0,\"#f0f921\"]]}],\"choropleth\":[{\"type\":\"choropleth\",\"colorbar\":{\"outlinewidth\":0,\"ticks\":\"\"}}],\"histogram2d\":[{\"type\":\"histogram2d\",\"colorbar\":{\"outlinewidth\":0,\"ticks\":\"\"},\"colorscale\":[[0.0,\"#0d0887\"],[0.1111111111111111,\"#46039f\"],[0.2222222222222222,\"#7201a8\"],[0.3333333333333333,\"#9c179e\"],[0.4444444444444444,\"#bd3786\"],[0.5555555555555556,\"#d8576b\"],[0.6666666666666666,\"#ed7953\"],[0.7777777777777778,\"#fb9f3a\"],[0.8888888888888888,\"#fdca26\"],[1.0,\"#f0f921\"]]}],\"heatmap\":[{\"type\":\"heatmap\",\"colorbar\":{\"outlinewidth\":0,\"ticks\":\"\"},\"colorscale\":[[0.0,\"#0d0887\"],[0.1111111111111111,\"#46039f\"],[0.2222222222222222,\"#7201a8\"],[0.3333333333333333,\"#9c179e\"],[0.4444444444444444,\"#bd3786\"],[0.5555555555555556,\"#d8576b\"],[0.6666666666666666,\"#ed7953\"],[0.7777777777777778,\"#fb9f3a\"],[0.8888888888888888,\"#fdca26\"],[1.0,\"#f0f921\"]]}],\"heatmapgl\":[{\"type\":\"heatmapgl\",\"colorbar\":{\"outlinewidth\":0,\"ticks\":\"\"},\"colorscale\":[[0.0,\"#0d0887\"],[0.1111111111111111,\"#46039f\"],[0.2222222222222222,\"#7201a8\"],[0.3333333333333333,\"#9c179e\"],[0.4444444444444444,\"#bd3786\"],[0.5555555555555556,\"#d8576b\"],[0.6666666666666666,\"#ed7953\"],[0.7777777777777778,\"#fb9f3a\"],[0.8888888888888888,\"#fdca26\"],[1.0,\"#f0f921\"]]}],\"contourcarpet\":[{\"type\":\"contourcarpet\",\"colorbar\":{\"outlinewidth\":0,\"ticks\":\"\"}}],\"contour\":[{\"type\":\"contour\",\"colorbar\":{\"outlinewidth\":0,\"ticks\":\"\"},\"colorscale\":[[0.0,\"#0d0887\"],[0.1111111111111111,\"#46039f\"],[0.2222222222222222,\"#7201a8\"],[0.3333333333333333,\"#9c179e\"],[0.4444444444444444,\"#bd3786\"],[0.5555555555555556,\"#d8576b\"],[0.6666666666666666,\"#ed7953\"],[0.7777777777777778,\"#fb9f3a\"],[0.8888888888888888,\"#fdca26\"],[1.0,\"#f0f921\"]]}],\"surface\":[{\"type\":\"surface\",\"colorbar\":{\"outlinewidth\":0,\"ticks\":\"\"},\"colorscale\":[[0.0,\"#0d0887\"],[0.1111111111111111,\"#46039f\"],[0.2222222222222222,\"#7201a8\"],[0.3333333333333333,\"#9c179e\"],[0.4444444444444444,\"#bd3786\"],[0.5555555555555556,\"#d8576b\"],[0.6666666666666666,\"#ed7953\"],[0.7777777777777778,\"#fb9f3a\"],[0.8888888888888888,\"#fdca26\"],[1.0,\"#f0f921\"]]}],\"mesh3d\":[{\"type\":\"mesh3d\",\"colorbar\":{\"outlinewidth\":0,\"ticks\":\"\"}}],\"scatter\":[{\"fillpattern\":{\"fillmode\":\"overlay\",\"size\":10,\"solidity\":0.2},\"type\":\"scatter\"}],\"parcoords\":[{\"type\":\"parcoords\",\"line\":{\"colorbar\":{\"outlinewidth\":0,\"ticks\":\"\"}}}],\"scatterpolargl\":[{\"type\":\"scatterpolargl\",\"marker\":{\"colorbar\":{\"outlinewidth\":0,\"ticks\":\"\"}}}],\"bar\":[{\"error_x\":{\"color\":\"#2a3f5f\"},\"error_y\":{\"color\":\"#2a3f5f\"},\"marker\":{\"line\":{\"color\":\"#E5ECF6\",\"width\":0.5},\"pattern\":{\"fillmode\":\"overlay\",\"size\":10,\"solidity\":0.2}},\"type\":\"bar\"}],\"scattergeo\":[{\"type\":\"scattergeo\",\"marker\":{\"colorbar\":{\"outlinewidth\":0,\"ticks\":\"\"}}}],\"scatterpolar\":[{\"type\":\"scatterpolar\",\"marker\":{\"colorbar\":{\"outlinewidth\":0,\"ticks\":\"\"}}}],\"histogram\":[{\"marker\":{\"pattern\":{\"fillmode\":\"overlay\",\"size\":10,\"solidity\":0.2}},\"type\":\"histogram\"}],\"scattergl\":[{\"type\":\"scattergl\",\"marker\":{\"colorbar\":{\"outlinewidth\":0,\"ticks\":\"\"}}}],\"scatter3d\":[{\"type\":\"scatter3d\",\"line\":{\"colorbar\":{\"outlinewidth\":0,\"ticks\":\"\"}},\"marker\":{\"colorbar\":{\"outlinewidth\":0,\"ticks\":\"\"}}}],\"scattermapbox\":[{\"type\":\"scattermapbox\",\"marker\":{\"colorbar\":{\"outlinewidth\":0,\"ticks\":\"\"}}}],\"scatterternary\":[{\"type\":\"scatterternary\",\"marker\":{\"colorbar\":{\"outlinewidth\":0,\"ticks\":\"\"}}}],\"scattercarpet\":[{\"type\":\"scattercarpet\",\"marker\":{\"colorbar\":{\"outlinewidth\":0,\"ticks\":\"\"}}}],\"carpet\":[{\"aaxis\":{\"endlinecolor\":\"#2a3f5f\",\"gridcolor\":\"white\",\"linecolor\":\"white\",\"minorgridcolor\":\"white\",\"startlinecolor\":\"#2a3f5f\"},\"baxis\":{\"endlinecolor\":\"#2a3f5f\",\"gridcolor\":\"white\",\"linecolor\":\"white\",\"minorgridcolor\":\"white\",\"startlinecolor\":\"#2a3f5f\"},\"type\":\"carpet\"}],\"table\":[{\"cells\":{\"fill\":{\"color\":\"#EBF0F8\"},\"line\":{\"color\":\"white\"}},\"header\":{\"fill\":{\"color\":\"#C8D4E3\"},\"line\":{\"color\":\"white\"}},\"type\":\"table\"}],\"barpolar\":[{\"marker\":{\"line\":{\"color\":\"#E5ECF6\",\"width\":0.5},\"pattern\":{\"fillmode\":\"overlay\",\"size\":10,\"solidity\":0.2}},\"type\":\"barpolar\"}],\"pie\":[{\"automargin\":true,\"type\":\"pie\"}]},\"layout\":{\"autotypenumbers\":\"strict\",\"colorway\":[\"#636efa\",\"#EF553B\",\"#00cc96\",\"#ab63fa\",\"#FFA15A\",\"#19d3f3\",\"#FF6692\",\"#B6E880\",\"#FF97FF\",\"#FECB52\"],\"font\":{\"color\":\"#2a3f5f\"},\"hovermode\":\"closest\",\"hoverlabel\":{\"align\":\"left\"},\"paper_bgcolor\":\"white\",\"plot_bgcolor\":\"#E5ECF6\",\"polar\":{\"bgcolor\":\"#E5ECF6\",\"angularaxis\":{\"gridcolor\":\"white\",\"linecolor\":\"white\",\"ticks\":\"\"},\"radialaxis\":{\"gridcolor\":\"white\",\"linecolor\":\"white\",\"ticks\":\"\"}},\"ternary\":{\"bgcolor\":\"#E5ECF6\",\"aaxis\":{\"gridcolor\":\"white\",\"linecolor\":\"white\",\"ticks\":\"\"},\"baxis\":{\"gridcolor\":\"white\",\"linecolor\":\"white\",\"ticks\":\"\"},\"caxis\":{\"gridcolor\":\"white\",\"linecolor\":\"white\",\"ticks\":\"\"}},\"coloraxis\":{\"colorbar\":{\"outlinewidth\":0,\"ticks\":\"\"}},\"colorscale\":{\"sequential\":[[0.0,\"#0d0887\"],[0.1111111111111111,\"#46039f\"],[0.2222222222222222,\"#7201a8\"],[0.3333333333333333,\"#9c179e\"],[0.4444444444444444,\"#bd3786\"],[0.5555555555555556,\"#d8576b\"],[0.6666666666666666,\"#ed7953\"],[0.7777777777777778,\"#fb9f3a\"],[0.8888888888888888,\"#fdca26\"],[1.0,\"#f0f921\"]],\"sequentialminus\":[[0.0,\"#0d0887\"],[0.1111111111111111,\"#46039f\"],[0.2222222222222222,\"#7201a8\"],[0.3333333333333333,\"#9c179e\"],[0.4444444444444444,\"#bd3786\"],[0.5555555555555556,\"#d8576b\"],[0.6666666666666666,\"#ed7953\"],[0.7777777777777778,\"#fb9f3a\"],[0.8888888888888888,\"#fdca26\"],[1.0,\"#f0f921\"]],\"diverging\":[[0,\"#8e0152\"],[0.1,\"#c51b7d\"],[0.2,\"#de77ae\"],[0.3,\"#f1b6da\"],[0.4,\"#fde0ef\"],[0.5,\"#f7f7f7\"],[0.6,\"#e6f5d0\"],[0.7,\"#b8e186\"],[0.8,\"#7fbc41\"],[0.9,\"#4d9221\"],[1,\"#276419\"]]},\"xaxis\":{\"gridcolor\":\"white\",\"linecolor\":\"white\",\"ticks\":\"\",\"title\":{\"standoff\":15},\"zerolinecolor\":\"white\",\"automargin\":true,\"zerolinewidth\":2},\"yaxis\":{\"gridcolor\":\"white\",\"linecolor\":\"white\",\"ticks\":\"\",\"title\":{\"standoff\":15},\"zerolinecolor\":\"white\",\"automargin\":true,\"zerolinewidth\":2},\"scene\":{\"xaxis\":{\"backgroundcolor\":\"#E5ECF6\",\"gridcolor\":\"white\",\"linecolor\":\"white\",\"showbackground\":true,\"ticks\":\"\",\"zerolinecolor\":\"white\",\"gridwidth\":2},\"yaxis\":{\"backgroundcolor\":\"#E5ECF6\",\"gridcolor\":\"white\",\"linecolor\":\"white\",\"showbackground\":true,\"ticks\":\"\",\"zerolinecolor\":\"white\",\"gridwidth\":2},\"zaxis\":{\"backgroundcolor\":\"#E5ECF6\",\"gridcolor\":\"white\",\"linecolor\":\"white\",\"showbackground\":true,\"ticks\":\"\",\"zerolinecolor\":\"white\",\"gridwidth\":2}},\"shapedefaults\":{\"line\":{\"color\":\"#2a3f5f\"}},\"annotationdefaults\":{\"arrowcolor\":\"#2a3f5f\",\"arrowhead\":0,\"arrowwidth\":1},\"geo\":{\"bgcolor\":\"white\",\"landcolor\":\"#E5ECF6\",\"subunitcolor\":\"white\",\"showland\":true,\"showlakes\":true,\"lakecolor\":\"white\"},\"title\":{\"x\":0.05},\"mapbox\":{\"style\":\"light\"}}},\"xaxis\":{\"anchor\":\"y\",\"domain\":[0.0,1.0],\"title\":{\"text\":\"Threshold\"}},\"yaxis\":{\"anchor\":\"x\",\"domain\":[0.0,1.0],\"title\":{\"text\":\"F1 Score\"}},\"legend\":{\"tracegroupgap\":0},\"margin\":{\"t\":60},\"title\":{\"text\":\"F1 Score on Imbalanced Data at Different Decision Thresholds<br>for Neural Network\"}},                        {\"responsive\": true}                    ).then(function(){\n",
       "                            \n",
       "var gd = document.getElementById('da9ecdec-9a88-4408-a143-a3c96738cd9d');\n",
       "var x = new MutationObserver(function (mutations, observer) {{\n",
       "        var display = window.getComputedStyle(gd).display;\n",
       "        if (!display || display === 'none') {{\n",
       "            console.log([gd, 'removed!']);\n",
       "            Plotly.purge(gd);\n",
       "            observer.disconnect();\n",
       "        }}\n",
       "}});\n",
       "\n",
       "// Listen for the removal of the full notebook cells\n",
       "var notebookContainer = gd.closest('#notebook-container');\n",
       "if (notebookContainer) {{\n",
       "    x.observe(notebookContainer, {childList: true});\n",
       "}}\n",
       "\n",
       "// Listen for the clearing of the current output cell\n",
       "var outputEl = gd.closest('.output');\n",
       "if (outputEl) {{\n",
       "    x.observe(outputEl, {childList: true});\n",
       "}}\n",
       "\n",
       "                        })                };                });            </script>        </div>"
      ]
     },
     "metadata": {},
     "output_type": "display_data"
    }
   ],
   "source": [
    "# Plot F1 Score vs Threshold\n",
    "\n",
    "fig = px.line(x = threshold, y = f1_scores)\n",
    "fig.update_layout(title = 'F1 Score on Imbalanced Data at Different Decision Thresholds<br>for Neural Network',\n",
    "                 xaxis_title = 'Threshold',\n",
    "                 yaxis_title = 'F1 Score')\n",
    "fig.show()"
   ]
  },
  {
   "attachments": {
    "NN%20Threshold.png": {
     "image/png": "[encoded data removed]"
    }
   },
   "cell_type": "markdown",
   "id": "e3ac1ee4",
   "metadata": {},
   "source": [
    "![NN%20Threshold.png](attachment:NN%20Threshold.png)"
   ]
  },
  {
   "cell_type": "code",
   "execution_count": 124,
   "id": "1f58e0ab",
   "metadata": {},
   "outputs": [
    {
     "name": "stdout",
     "output_type": "stream",
     "text": [
      "Max F1-Score : 0.499\n",
      "Optimal Threshold : 0.7500000000000002\n"
     ]
    }
   ],
   "source": [
    "# Determine the optimal threshold, which is that corresponds to the maximum mean_f1_score\n",
    "optimal_threshold = threshold[np.argmax(f1_scores)]\n",
    "\n",
    "# Maximum mean F1 score\n",
    "max_f1_score = max(f1_scores)\n",
    "\n",
    "# Print Result\n",
    "print(f'Max F1-Score : {round(max_f1_score, 3)}\\nOptimal Threshold : {optimal_threshold}')"
   ]
  },
  {
   "cell_type": "markdown",
   "id": "51acd757",
   "metadata": {},
   "source": [
    "#### 5.6.3 Model Evaluation"
   ]
  },
  {
   "cell_type": "markdown",
   "id": "50abe973",
   "metadata": {},
   "source": [
    "Using the trained neural network and the optimal threshold, the performance of the model is evaluated."
   ]
  },
  {
   "cell_type": "code",
   "execution_count": 125,
   "id": "35936c60",
   "metadata": {},
   "outputs": [],
   "source": [
    "# Prediction with new threshold\n",
    "y_pred = np.where(y_prob >= optimal_threshold, 1, 0)"
   ]
  },
  {
   "cell_type": "code",
   "execution_count": 126,
   "id": "f459f5d6",
   "metadata": {},
   "outputs": [],
   "source": [
    "# Create confusion matrix with the hard prediction\n",
    "cf_mat = confusion_matrix(y_test, y_pred)\n",
    "\n",
    "# Create DataFrame with the confusion matrix\n",
    "cf_mat_df = pd.DataFrame(cf_mat, index = ['True Sincere', 'True Insincere'], columns = ['Predicted Sincere', 'Predicted Insincere'])"
   ]
  },
  {
   "cell_type": "code",
   "execution_count": 89,
   "id": "e1fd3618",
   "metadata": {},
   "outputs": [
    {
     "data": {
      "image/png": "[encoded data removed]",
      "text/plain": [
       "<Figure size 640x480 with 1 Axes>"
      ]
     },
     "metadata": {},
     "output_type": "display_data"
    }
   ],
   "source": [
    "# Plot Confusion Matrix\n",
    "plt.figure()\n",
    "ax = sns.heatmap(cf_mat / len(y_test) * 100, annot = True, cmap = 'coolwarm', fmt='.2f', center = 0, cbar = False)\n",
    "for t in ax.texts: t.set_text(t.get_text() + \" %\")\n",
    "plt.title('Confusion Matrix of Neural Network Classifier\\n', size = 15)\n",
    "plt.xticks([0.5, 1.5], ['Predicted Sincere', 'Predicted Insincere'])\n",
    "plt.yticks([0.5, 1.5], ['True Sincere', 'True Insincere'])\n",
    "plt.show()"
   ]
  },
  {
   "cell_type": "code",
   "execution_count": 90,
   "id": "cbaa303c",
   "metadata": {},
   "outputs": [
    {
     "name": "stdout",
     "output_type": "stream",
     "text": [
      "              precision    recall  f1-score   support\n",
      "\n",
      "           0       0.97      0.96      0.96    122532\n",
      "           1       0.46      0.55      0.50      8081\n",
      "\n",
      "    accuracy                           0.93    130613\n",
      "   macro avg       0.71      0.75      0.73    130613\n",
      "weighted avg       0.94      0.93      0.93    130613\n",
      "\n"
     ]
    }
   ],
   "source": [
    "# Print Classification Report\n",
    "print(classification_report(y_test, y_pred))"
   ]
  },
  {
   "cell_type": "markdown",
   "id": "c6a12b04",
   "metadata": {},
   "source": [
    "The F-1 Score of the model is 0.50 with the accuracy of 0.93."
   ]
  },
  {
   "cell_type": "markdown",
   "id": "7e6a12e9",
   "metadata": {},
   "source": [
    "### 5.7 Final Model Selection"
   ]
  },
  {
   "cell_type": "markdown",
   "id": "7313af4d",
   "metadata": {},
   "source": [
    "#### 5.7.1 Model Comparison"
   ]
  },
  {
   "cell_type": "markdown",
   "id": "e3089c8a",
   "metadata": {},
   "source": [
    "The performances of the following two models, namely:\n",
    "\n",
    "1. XGBoost Model with Tf-Idf matrix, and\n",
    "2. Neural Network Model with BERT encoded matrix,\n",
    "\n",
    "are summarized as shown below."
   ]
  },
  {
   "cell_type": "markdown",
   "id": "1f5b8163",
   "metadata": {},
   "source": [
    "|Model / Vector | Accuracy | Precision | Recall | F-1 Score |\n",
    "| --- | --- | --- | --- | --- |\n",
    "|**XGB/Tf-Idf**| 0.94 | 0.48 | 0.59 | 0.53 |\n",
    "|**NN/BERT**| 0.93 | 0.46 | 0.55 | 0.50|"
   ]
  },
  {
   "cell_type": "markdown",
   "id": "c5e2b15c",
   "metadata": {},
   "source": [
    "The XGBoost model with Tf-Idf vectorized input performed better than Neural Network trained with BERT encoded input in all four metrics : accuracy, precision, recall and F-1 Score.\n",
    "\n",
    "While considering that the neural network was trained on a dataset approximately 10 times smaller than XGBoost the performance is impressive, the XGBoost option returned a higher F-1 Score and significantly shorter run time therefore is selected as the final model."
   ]
  },
  {
   "cell_type": "markdown",
   "id": "2c90db36",
   "metadata": {},
   "source": [
    "#### 5.7.2 Prediction"
   ]
  },
  {
   "cell_type": "markdown",
   "id": "d45fe7ec",
   "metadata": {},
   "source": [
    "The submission set (i.e. without target label) is predicted with the XGBoost classifier and inferences are made. First the model is imported."
   ]
  },
  {
   "cell_type": "code",
   "execution_count": 17,
   "id": "d11fda02",
   "metadata": {},
   "outputs": [],
   "source": [
    "import joblib\n",
    "\n",
    "# Load\n",
    "pipe_xgb = joblib.load('pipe_xgb_joblib')"
   ]
  },
  {
   "cell_type": "code",
   "execution_count": 18,
   "id": "903f0402",
   "metadata": {},
   "outputs": [
    {
     "data": {
      "text/plain": [
       "Pipeline(steps=[('vectorizer',\n",
       "                 TfidfVectorizer(min_df=0.00125, ngram_range=(1, 3),\n",
       "                                 tokenizer=<function custom_tokenizer at 0x0000026D546D25E0>)),\n",
       "                ('xgb',\n",
       "                 XGBClassifier(base_score=0.5, booster='gbtree',\n",
       "                               colsample_bylevel=1, colsample_bynode=1,\n",
       "                               colsample_bytree=1, enable_categorical=False,\n",
       "                               gamma=0, gpu_id=-1, importance_type=None,\n",
       "                               interaction_constraints='',\n",
       "                               learning_rate=0.300000012, max_delta_step=0,\n",
       "                               max_depth=10, min_child_weight=1, missing=nan,\n",
       "                               monotone_constraints='()', n_estimators=100,\n",
       "                               n_jobs=8, num_parallel_tree=1, predictor='auto',\n",
       "                               random_state=0, reg_alpha=0, reg_lambda=1,\n",
       "                               scale_pos_weight=1, subsample=1,\n",
       "                               tree_method='exact', validate_parameters=1,\n",
       "                               verbosity=0))])"
      ]
     },
     "execution_count": 18,
     "metadata": {},
     "output_type": "execute_result"
    }
   ],
   "source": [
    "pipe_xgb"
   ]
  },
  {
   "cell_type": "code",
   "execution_count": 19,
   "id": "fc9fcebf",
   "metadata": {},
   "outputs": [
    {
     "data": {
      "text/html": [
       "<div>\n",
       "<style scoped>\n",
       "    .dataframe tbody tr th:only-of-type {\n",
       "        vertical-align: middle;\n",
       "    }\n",
       "\n",
       "    .dataframe tbody tr th {\n",
       "        vertical-align: top;\n",
       "    }\n",
       "\n",
       "    .dataframe thead th {\n",
       "        text-align: right;\n",
       "    }\n",
       "</style>\n",
       "<table border=\"1\" class=\"dataframe\">\n",
       "  <thead>\n",
       "    <tr style=\"text-align: right;\">\n",
       "      <th></th>\n",
       "      <th>qid</th>\n",
       "      <th>question_text</th>\n",
       "    </tr>\n",
       "  </thead>\n",
       "  <tbody>\n",
       "    <tr>\n",
       "      <th>0</th>\n",
       "      <td>0000163e3ea7c7a74cd7</td>\n",
       "      <td>Why do so many women become so rude and arroga...</td>\n",
       "    </tr>\n",
       "    <tr>\n",
       "      <th>1</th>\n",
       "      <td>00002bd4fb5d505b9161</td>\n",
       "      <td>When should I apply for RV college of engineer...</td>\n",
       "    </tr>\n",
       "    <tr>\n",
       "      <th>2</th>\n",
       "      <td>00007756b4a147d2b0b3</td>\n",
       "      <td>What is it really like to be a nurse practitio...</td>\n",
       "    </tr>\n",
       "    <tr>\n",
       "      <th>3</th>\n",
       "      <td>000086e4b7e1c7146103</td>\n",
       "      <td>Who are entrepreneurs?</td>\n",
       "    </tr>\n",
       "    <tr>\n",
       "      <th>4</th>\n",
       "      <td>0000c4c3fbe8785a3090</td>\n",
       "      <td>Is education really making good people nowadays?</td>\n",
       "    </tr>\n",
       "  </tbody>\n",
       "</table>\n",
       "</div>"
      ],
      "text/plain": [
       "                    qid                                      question_text\n",
       "0  0000163e3ea7c7a74cd7  Why do so many women become so rude and arroga...\n",
       "1  00002bd4fb5d505b9161  When should I apply for RV college of engineer...\n",
       "2  00007756b4a147d2b0b3  What is it really like to be a nurse practitio...\n",
       "3  000086e4b7e1c7146103                             Who are entrepreneurs?\n",
       "4  0000c4c3fbe8785a3090   Is education really making good people nowadays?"
      ]
     },
     "execution_count": 19,
     "metadata": {},
     "output_type": "execute_result"
    }
   ],
   "source": [
    "# Import submission set\n",
    "df_submission = pd.read_csv('test.csv')\n",
    "\n",
    "# Display 5 rows\n",
    "df_submission.head()"
   ]
  },
  {
   "cell_type": "code",
   "execution_count": 20,
   "id": "9da8e378",
   "metadata": {},
   "outputs": [],
   "source": [
    "# Extract X\n",
    "X_submission = df_submission['question_text']"
   ]
  },
  {
   "cell_type": "code",
   "execution_count": 21,
   "id": "dd292d78",
   "metadata": {},
   "outputs": [],
   "source": [
    "# Predict Probabilities of submission set\n",
    "y_prob = pipe_xgb.predict_proba(X_submission)"
   ]
  },
  {
   "cell_type": "code",
   "execution_count": 34,
   "id": "cae79ea5",
   "metadata": {},
   "outputs": [],
   "source": [
    "# Optimal Threshold for XGBoost Model : 0.77\n",
    "optimal_threshold_xgb = 0.77"
   ]
  },
  {
   "cell_type": "code",
   "execution_count": 35,
   "id": "63cd2dbc",
   "metadata": {},
   "outputs": [],
   "source": [
    "# Prediction with new threshold\n",
    "y_pred = np.where(y_prob >= optimal_threshold_xgb, 1, 0)"
   ]
  },
  {
   "cell_type": "markdown",
   "id": "6e9d11fd",
   "metadata": {},
   "source": [
    "#### 5.7.3 Inference"
   ]
  },
  {
   "cell_type": "markdown",
   "id": "124a181e",
   "metadata": {},
   "source": [
    "To review the decisions made by the prediction models, 10 questions predicted as sincere and insincere are randomly reviewed."
   ]
  },
  {
   "cell_type": "code",
   "execution_count": 36,
   "id": "844da13d",
   "metadata": {},
   "outputs": [],
   "source": [
    "pd.set_option(\"display.max_colwidth\", -1)"
   ]
  },
  {
   "cell_type": "markdown",
   "id": "e8d218c5",
   "metadata": {},
   "source": [
    "##### Sincere Questions"
   ]
  },
  {
   "cell_type": "code",
   "execution_count": 37,
   "id": "df356b07",
   "metadata": {},
   "outputs": [
    {
     "data": {
      "text/plain": [
       "288419    How can I fix a Sega Genesis cable?                                                                                                                                       \n",
       "355955    How can I become slightly thinner? I’m already kinda thin but I do have a little stomach sticking out and would like to have a flat chest again like I did a few years ago\n",
       "247632    When you have hurt a person you truly love and he/she is just not talking to you for almost a month, should I leave hope or have faith in God?                            \n",
       "240971    What happens if there is no zero?                                                                                                                                         \n",
       "117313    How do I improve my spoken English skills?                                                                                                                                \n",
       "118407    Why does Israel think it can achieve its dreams، Iran's exit from Syria?                                                                                                  \n",
       "345790    If n(A) = 7, n (A ∪ B) = 11, and n(B) = 5, then what is n (A ∩ B)?                                                                                                        \n",
       "16321     How are fetal humans different from adult humans in all aspects?                                                                                                          \n",
       "216603    During Operation Desert Storm or any major attack on Islamic countries, why wasn't the attack launched on Ramadan? Wouldn't they be weaker there?                         \n",
       "321156    Is it natural to serve?                                                                                                                                                   \n",
       "Name: question_text, dtype: object"
      ]
     },
     "execution_count": 37,
     "metadata": {},
     "output_type": "execute_result"
    }
   ],
   "source": [
    "# Randomly sample 10 sincere questions\n",
    "X_submission[y_pred[:,1] == 0].sample(10)"
   ]
  },
  {
   "cell_type": "markdown",
   "id": "5d99a19c",
   "metadata": {},
   "source": [
    "##### Insincere Questions"
   ]
  },
  {
   "cell_type": "code",
   "execution_count": 38,
   "id": "cde724cb",
   "metadata": {
    "scrolled": false
   },
   "outputs": [
    {
     "data": {
      "text/plain": [
       "308746    I'm a male and I was raped at age 10. Did I lose my virginity? Am I still a virgin?                                                                                                                                      \n",
       "26886     How can I ask a question seeking a non-Indian's opinion about the people of India, it's culture and people?                                                                                                              \n",
       "249787    If the Vietnamese hate China so much, should they stop using Chinese surnames?                                                                                                                                           \n",
       "173686    Have any Muslims stopped answering questions on the Israeli/Palestinian conflict because they feel that it is hard to abide by the \"be nice\" policy, especially when the questions seem anti Islamic?                    \n",
       "292938    What about India makes Indians proud?                                                                                                                                                                                    \n",
       "192856    Why did many Muslim Asian men (Pakistani, Bangladeshi) marry white British women in the 1970s and how/why did the women agree?                                                                                           \n",
       "89344     How do you think the liberals will act when Trump slow rolls the 1.3 trillion and change the break down of the omni?                                                                                                     \n",
       "125894    Is it possible I could be a sociopath? I understand how many uninformed people come on here and ask questions like this one; however, I'm curious and would like to read other opinions. (Information added as a comment)\n",
       "291438    Why doesn't Twitter ever ban liberals?                                                                                                                                                                                   \n",
       "9271      Are Jewish people thankful for the Polish people's effort to defeat Nazism?                                                                                                                                              \n",
       "Name: question_text, dtype: object"
      ]
     },
     "execution_count": 38,
     "metadata": {},
     "output_type": "execute_result"
    }
   ],
   "source": [
    "# Randomly sample 10 insincere questions\n",
    "X_submission[y_pred[:,1] == 1].sample(10)"
   ]
  },
  {
   "cell_type": "markdown",
   "id": "85d3487a",
   "metadata": {},
   "source": [
    "* Note : The precision of this prediction model is approximately 0.5. In other words, of the 10 questions classified as insincere above, roughly 5 questions could in fact be sincere. By personally reviewing the questions, however, it is difficult to distinguish which are sincere. Considering this, the prediction model is deemed to perform as well as a human can."
   ]
  }
 ],
 "metadata": {
  "kernelspec": {
   "display_name": "quora_deeplearning",
   "language": "python",
   "name": "quora_deeplearning"
  },
  "language_info": {
   "codemirror_mode": {
    "name": "ipython",
    "version": 3
   },
   "file_extension": ".py",
   "mimetype": "text/x-python",
   "name": "python",
   "nbconvert_exporter": "python",
   "pygments_lexer": "ipython3",
   "version": "3.8.13"
  }
 },
 "nbformat": 4,
 "nbformat_minor": 5
}
